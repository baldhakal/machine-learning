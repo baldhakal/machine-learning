{
 "cells": [
  {
   "cell_type": "code",
   "execution_count": 1,
   "metadata": {},
   "outputs": [
    {
     "data": {
      "text/plain": [
       "[u'austen-emma.txt',\n",
       " u'austen-persuasion.txt',\n",
       " u'austen-sense.txt',\n",
       " u'bible-kjv.txt',\n",
       " u'blake-poems.txt',\n",
       " u'bryant-stories.txt',\n",
       " u'burgess-busterbrown.txt',\n",
       " u'carroll-alice.txt',\n",
       " u'chesterton-ball.txt',\n",
       " u'chesterton-brown.txt',\n",
       " u'chesterton-thursday.txt',\n",
       " u'edgeworth-parents.txt',\n",
       " u'melville-moby_dick.txt',\n",
       " u'milton-paradise.txt',\n",
       " u'shakespeare-caesar.txt',\n",
       " u'shakespeare-hamlet.txt',\n",
       " u'shakespeare-macbeth.txt',\n",
       " u'whitman-leaves.txt']"
      ]
     },
     "execution_count": 1,
     "metadata": {},
     "output_type": "execute_result"
    }
   ],
   "source": [
    "import nltk\n",
    "nltk.corpus.gutenberg.fileids()"
   ]
  },
  {
   "cell_type": "markdown",
   "metadata": {},
   "source": [
    "#### .isalpha()\n",
    "This method returns true if all characters in the string are alphabetic and there is at least one character, false otherwise."
   ]
  },
  {
   "cell_type": "code",
   "execution_count": 2,
   "metadata": {},
   "outputs": [
    {
     "name": "stdout",
     "output_type": "stream",
     "text": [
      "[u'Leaves', u'of', u'Grass', u'by', u'Walt', u'Whitman', u'Come', u'said', u'my', u'soul']\n"
     ]
    }
   ],
   "source": [
    "# note the use of words() to load tokens\n",
    "whitmanTokens = list(nltk.corpus.gutenberg.words('whitman-leaves.txt'))\n",
    "# filter out non-words\n",
    "whitmanWords = [word for word in whitmanTokens if word[0].isalpha()]\n",
    "print whitmanWords[:10]"
   ]
  },
  {
   "cell_type": "markdown",
   "metadata": {},
   "source": [
    "#### .collocations()\n",
    "There's actually a very easy and convenient way to look for the top bigrams in an NLTK text using the collocations() function </a> and specifying the number of top frequency phrases to return."
   ]
  },
  {
   "cell_type": "code",
   "execution_count": 3,
   "metadata": {},
   "outputs": [
    {
     "name": "stdout",
     "output_type": "stream",
     "text": [
      "young men; open air; Walt Whitman; young man; New World; every one;\n",
      "every thing; live oak; Good bye; whole earth; Thou knowest; thousand\n",
      "years; Old Age; mocking bird; shapes arise; old man; little child;\n",
      "steam whistle; centuries hence; old age\n"
     ]
    }
   ],
   "source": [
    "whitmanText = nltk.Text (whitmanWords)\n",
    "# 20 top bigrams separated by semi-colon\n",
    "whitmanText.collocations(20)"
   ]
  },
  {
   "cell_type": "markdown",
   "metadata": {},
   "source": [
    "### NLTK N-Grams"
   ]
  },
  {
   "cell_type": "code",
   "execution_count": 17,
   "metadata": {},
   "outputs": [
    {
     "name": "stdout",
     "output_type": "stream",
     "text": [
      "(u'Leaves', u'of', u'Grass', u'by')\n",
      "(14, u'it shall be you')\n",
      "(11, u'of the earth and')\n",
      "(11, u'I do not know')\n",
      "(11, u'as much as the')\n",
      "(10, u'The shape of the')\n",
      "(10, u'in the open air')\n",
      "(10, u'of men and women')\n",
      "(10, u'I do not doubt')\n",
      "(10, u'just as much as')\n",
      "(8, u'in the midst of')\n",
      "(8, u'of the earth I')\n",
      "(8, u'you whoever you are')\n",
      "(7, u'do not know what')\n",
      "(7, u'the sound of the')\n",
      "(7, u'know what it is')\n"
     ]
    }
   ],
   "source": [
    "# create four-grams\n",
    "whitman4grams = list(nltk.ngrams(whitmanWords,4))\n",
    "print whitman4grams[0] # a list of 4 grams words\n",
    "# determine frequency of four-grams\n",
    "whitman4gramsFreq = nltk.FreqDist(whitman4grams)\n",
    "for words, count in whitman4gramsFreq.most_common(15):\n",
    "    print (count, ' '.join(list(words)))"
   ]
  },
  {
   "cell_type": "markdown",
   "metadata": {},
   "source": [
    "### Distribution of Phrase"
   ]
  },
  {
   "cell_type": "code",
   "execution_count": 23,
   "metadata": {},
   "outputs": [
    {
     "data": {
      "image/png": "[encoded data removed]",
      "text/plain": [
       "<matplotlib.figure.Figure at 0x11781cf10>"
      ]
     },
     "metadata": {},
     "output_type": "display_data"
    }
   ],
   "source": [
    "whitmanText.dispersion_plot([\"I do not know\"])\n",
    "# won't work since phrases aren't in the emmaText tokens"
   ]
  },
  {
   "cell_type": "markdown",
   "metadata": {},
   "source": [
    "However, we can create a new text from our ngrams and then ask for a dispersion plot. "
   ]
  },
  {
   "cell_type": "code",
   "execution_count": 24,
   "metadata": {},
   "outputs": [
    {
     "data": {
      "image/png": "[encoded data removed]",
      "text/plain": [
       "<matplotlib.figure.Figure at 0x1158bda50>"
      ]
     },
     "metadata": {},
     "output_type": "display_data"
    }
   ],
   "source": [
    "whitman4gramsText = nltk.Text(whitman4grams)\n",
    "whitman4gramsText.dispersion_plot([(\"I\",\"do\",\"not\",\"know\")])"
   ]
  },
  {
   "cell_type": "markdown",
   "metadata": {},
   "source": [
    "### Longest Repeating Phrases"
   ]
  },
  {
   "cell_type": "code",
   "execution_count": 10,
   "metadata": {},
   "outputs": [
    {
     "name": "stdout",
     "output_type": "stream",
     "text": [
      "('ngram of', 33, ' words occuring ', 2, ' times:', u'from top to toe I sing Not physiognomy alone nor brain alone is worthy for the Muse I say the Form complete is worthier far The Female equally with the Male I sing')\n"
     ]
    }
   ],
   "source": [
    "ngramsFreqs = [] # keep track of last set of repeating phrases\n",
    "# create a range from 2 to the length of the text (even if we don't get that high)\n",
    "for length in range (2,len(whitmanWords)):\n",
    "    ngrams = list(nltk.ngrams(whitmanWords, length))\n",
    "    freqs = nltk.FreqDist(ngrams)\n",
    "    \n",
    "    # filter out frequencies that don't repeat\n",
    "    freqs = [(ngram, count) for ngram, count in freqs.items() if count > 1]\n",
    "    if len(freqs) > 0: # we have at least one repeating phrase\n",
    "        ngramsFreqs = freqs # new set of frequencies\n",
    "    else: # if we've filtered out all frequencies then break out of the loop\n",
    "        break\n",
    "\n",
    "for ngram, count in ngramsFreqs:\n",
    "    print('ngram of', len(ngram), ' words occuring ', count, ' times:', ' '.join(list(ngram)))"
   ]
  },
  {
   "cell_type": "markdown",
   "metadata": {},
   "source": [
    "### Segmenting Texts\n",
    "We can segment our tokens or n-grams </a> in various ways, but one convenient way is to use a library called NumPy that is helpful for working with arrays </a> (and graphing array-backed data). Let's see it in action with a simplified example where we're going to create a list of numbers from 0 to 9 (10 elements) and then create 5 equal bins in which to place the items."
   ]
  },
  {
   "cell_type": "code",
   "execution_count": 11,
   "metadata": {},
   "outputs": [
    {
     "data": {
      "text/plain": [
       "[0, 1, 2, 3, 4, 5, 6, 7, 8]"
      ]
     },
     "execution_count": 11,
     "metadata": {},
     "output_type": "execute_result"
    }
   ],
   "source": [
    "numbers = list(range(0,9)) # create a range from 0 to 9 and convert the range to a list\n",
    "numbers"
   ]
  },
  {
   "cell_type": "code",
   "execution_count": 12,
   "metadata": {},
   "outputs": [
    {
     "name": "stdout",
     "output_type": "stream",
     "text": [
      "('number of bins:', 5)\n"
     ]
    },
    {
     "data": {
      "text/plain": [
       "[array([0, 1]), array([2, 3]), array([4, 5]), array([6, 7]), array([8])]"
      ]
     },
     "execution_count": 12,
     "metadata": {},
     "output_type": "execute_result"
    }
   ],
   "source": [
    "import numpy as np\n",
    "numberBins = np.array_split(numbers, 5) # divide our numbers into 5 equal bins\n",
    "print(\"number of bins:\", len(numberBins))\n",
    "numberBins"
   ]
  },
  {
   "cell_type": "markdown",
   "metadata": {},
   "source": [
    "We can do something similar with our whitman4gramsTokens, dividing the list into 10 each parts."
   ]
  },
  {
   "cell_type": "code",
   "execution_count": 16,
   "metadata": {},
   "outputs": [
    {
     "name": "stdout",
     "output_type": "stream",
     "text": [
      "Leaves of Grass by\n"
     ]
    },
    {
     "data": {
      "text/plain": [
       "[12628, 12628, 12628, 12627, 12627, 12627, 12627, 12627, 12627, 12627]"
      ]
     },
     "execution_count": 16,
     "metadata": {},
     "output_type": "execute_result"
    }
   ],
   "source": [
    "\n",
    "whitman4gramsTokens = [\" \".join(gram) for gram in whitman4grams]\n",
    "print whitman4gramsTokens[0]\n",
    "whitman4gramsSegments = np.array_split(whitman4gramsTokens, 10)\n",
    "[len(segment) for segment in whitman4gramsSegments] # how many ngrams in each bin?"
   ]
  },
  {
   "cell_type": "markdown",
   "metadata": {},
   "source": [
    "Now, instead of counting the number of tokens, we'll count the number of occurrences of our search term \"it shall be you\"."
   ]
  },
  {
   "cell_type": "code",
   "execution_count": 26,
   "metadata": {},
   "outputs": [
    {
     "data": {
      "text/plain": [
       "[2, 3, 2, 0, 2, 0, 2, 0, 0, 0]"
      ]
     },
     "execution_count": 26,
     "metadata": {},
     "output_type": "execute_result"
    }
   ],
   "source": [
    "iDoNotKnowCounts = []\n",
    "for seg in whitman4gramsSegments:\n",
    "        iDoNotKnowCounts.append(list(seg).count('I do not know'))\n",
    "\n",
    "itShallBeYouCounts # counts per segment"
   ]
  },
  {
   "cell_type": "markdown",
   "metadata": {},
   "source": [
    "\n",
    "And now a simple plot of these counts (we're adding a legend to make it easier to understand)."
   ]
  },
  {
   "cell_type": "code",
   "execution_count": 27,
   "metadata": {},
   "outputs": [
    {
     "data": {
      "image/png": "[encoded data removed]",
      "text/plain": [
       "<matplotlib.figure.Figure at 0x114d7cad0>"
      ]
     },
     "metadata": {},
     "output_type": "display_data"
    },
    {
     "data": {
      "image/png": "[encoded data removed]",
      "text/plain": [
       "<matplotlib.figure.Figure at 0x11470d290>"
      ]
     },
     "metadata": {},
     "output_type": "display_data"
    }
   ],
   "source": [
    "import matplotlib.pyplot as plt\n",
    "line = plt.plot(iDoNotKnowCounts, label=\"I do not know\")\n",
    "plt.ylim(0) # make sure to set y axis to start at zero\n",
    "plt.legend(handles=line) # we're going to add a legend\n",
    "plt.show() # make sure to flush out the line chart\n",
    "whitman4gramsText.dispersion_plot([(\"I\",\"do\",\"not\",\"know\")]) # for comparison sake"
   ]
  },
  {
   "cell_type": "markdown",
   "metadata": {},
   "source": [
    "Line graphs can be a bit easier to read for multiple values though. Let's construct a graph that compares \"I do not know\" and \"of the earth and\"."
   ]
  },
  {
   "cell_type": "code",
   "execution_count": 31,
   "metadata": {},
   "outputs": [
    {
     "name": "stdout",
     "output_type": "stream",
     "text": [
      "[<matplotlib.lines.Line2D object at 0x115053550>, <matplotlib.lines.Line2D object at 0x115053510>]\n"
     ]
    },
    {
     "data": {
      "image/png": "[encoded data removed]",
      "text/plain": [
       "<matplotlib.figure.Figure at 0x115922810>"
      ]
     },
     "metadata": {},
     "output_type": "display_data"
    }
   ],
   "source": [
    "searches = [\"I do not know\", \"of the earth and\"]\n",
    "lines = []\n",
    "for search in searches:\n",
    "    line, = plt.plot([list(segment).count(search) for segment in whitman4gramsSegments], label=search)\n",
    "    lines.append(line)\n",
    "print lines\n",
    "plt.legend(handles=lines)\n",
    "plt.show()"
   ]
  },
  {
   "cell_type": "markdown",
   "metadata": {},
   "source": [
    "### Correlations\n",
    "\n",
    "A question we might have about the graph above is to what extent values in the two lines correlate. In other words, if one line rises, does the other have a tendency to rise, or is it the opposite, or is there no real correlation (synchronized variation) between the two.\n",
    "\n",
    "Once again we can use NumPy to help us measure correlation using corrcoef(). Let's first see it in action with a couple of simple example datasets."
   ]
  },
  {
   "cell_type": "code",
   "execution_count": 33,
   "metadata": {},
   "outputs": [
    {
     "name": "stdout",
     "output_type": "stream",
     "text": [
      "[2, 3, 2, 0, 2, 0, 2, 0, 0, 0]\n",
      "[1, 0, 1, 2, 1, 0, 0, 5, 0, 1]\n"
     ]
    }
   ],
   "source": [
    "iDoNotKnowCounts = [list(segment).count(\"I do not know\") for segment in whitman4gramsSegments]\n",
    "ofTheEarthAndCounts = [list(segment).count(\"of the earth and\") for segment in whitman4gramsSegments]\n",
    "print(iDoNotKnowCounts)\n",
    "print(ofTheEarthAndCounts)"
   ]
  },
  {
   "cell_type": "code",
   "execution_count": 34,
   "metadata": {},
   "outputs": [
    {
     "data": {
      "text/plain": [
       "-0.37150258224395127"
      ]
     },
     "execution_count": 34,
     "metadata": {},
     "output_type": "execute_result"
    }
   ],
   "source": [
    "np.corrcoef(iDoNotKnowCounts, ofTheEarthAndCounts)[0,1]"
   ]
  },
  {
   "cell_type": "markdown",
   "metadata": {},
   "source": [
    "A weak inverse correlation.\n",
    "\n",
    "Let's see if we can find one of our top frequency four-grams with a stronger correlation."
   ]
  },
  {
   "cell_type": "code",
   "execution_count": 36,
   "metadata": {},
   "outputs": [
    {
     "name": "stdout",
     "output_type": "stream",
     "text": [
      "[u'it shall be you', u'of the earth and', u'I do not know', u'as much as the', u'The shape of the', u'in the open air', u'of men and women', u'I do not doubt', u'just as much as', u'in the midst of', u'of the earth I', u'you whoever you are', u'do not know what', u'the sound of the', u'know what it is']\n"
     ]
    }
   ],
   "source": [
    "whitman4gramsMostFreq = [\" \".join(words) for words, count in whitman4gramsFreq.most_common(15)]\n",
    "print (whitman4gramsMostFreq)"
   ]
  },
  {
   "cell_type": "code",
   "execution_count": 37,
   "metadata": {
    "collapsed": true
   },
   "outputs": [],
   "source": [
    "# build a dictionary of counts for each search item\n",
    "whitman4gramsSegmentsCounts = {}\n",
    "for search in whitman4gramsMostFreq:\n",
    "    whitman4gramsSegmentsCounts[search] = [list(segment).count(search) for segment in whitman4gramsSegments]"
   ]
  },
  {
   "cell_type": "code",
   "execution_count": 40,
   "metadata": {},
   "outputs": [],
   "source": [
    "# build a dictionary of correlaiton values for \"I do not know\"\n",
    "iDoNotKnowCorrelations = {}\n",
    "for ngram, counts in whitman4gramsSegmentsCounts.items():\n",
    "    iDoNotKnowCorrelations[ngram] = np.corrcoef(whitman4gramsSegmentsCounts[\"I do not know\"], counts)[0,1]"
   ]
  },
  {
   "cell_type": "code",
   "execution_count": 41,
   "metadata": {},
   "outputs": [
    {
     "name": "stdout",
     "output_type": "stream",
     "text": [
      "[(u'I do not know', 0.99999999999999978), (u'do not know what', 0.93566055193419362), (u'you whoever you are', 0.67033207807355677), (u'in the midst of', 0.64699663922063044), (u'in the open air', 0.5906244232186183), (u'as much as the', 0.49769250596919062), (u'just as much as', 0.48224282217041209), (u'it shall be you', 0.2641352718976871), (u'know what it is', 0.24976918100516846), (u'of the earth I', 0.1917027079172238), (u'the sound of the', 0.17875432925883694), (u'of men and women', 0.16074760739013735), (u'I do not doubt', -0.29531221160930909), (u'The shape of the', -0.32283199898606196), (u'of the earth and', -0.37150258224395127)]\n"
     ]
    },
    {
     "data": {
      "image/png": "[encoded data removed]",
      "text/plain": [
       "<matplotlib.figure.Figure at 0x1147ded10>"
      ]
     },
     "metadata": {},
     "output_type": "display_data"
    }
   ],
   "source": [
    "iDoNotKnowCorrelationFreqs = nltk.FreqDist(iDoNotKnowCorrelations)\n",
    "print iDoNotKnowCorrelationFreqs.most_common()\n",
    "iDoNotKnowCorrelationFreqs.plot()"
   ]
  },
  {
   "cell_type": "code",
   "execution_count": null,
   "metadata": {
    "collapsed": true
   },
   "outputs": [],
   "source": []
  }
 ],
 "metadata": {
  "kernelspec": {
   "display_name": "Python 2",
   "language": "python",
   "name": "python2"
  },
  "language_info": {
   "codemirror_mode": {
    "name": "ipython",
    "version": 2
   },
   "file_extension": ".py",
   "mimetype": "text/x-python",
   "name": "python",
   "nbconvert_exporter": "python",
   "pygments_lexer": "ipython2",
   "version": "2.7.13"
  }
 },
 "nbformat": 4,
 "nbformat_minor": 2
}
