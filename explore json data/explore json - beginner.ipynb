{
 "cells": [
  {
   "cell_type": "code",
   "execution_count": 3,
   "metadata": {},
   "outputs": [],
   "source": [
    "import json\n",
    "\n",
    "# import json data\n",
    "with open('json_data/Canada.json', 'r') as f:\n",
    "    data = json.load(f)"
   ]
  },
  {
   "cell_type": "code",
   "execution_count": 11,
   "metadata": {},
   "outputs": [
    {
     "name": "stdout",
     "output_type": "stream",
     "text": [
      "[u'type', u'features']\n"
     ]
    }
   ],
   "source": [
    "print data.keys()"
   ]
  },
  {
   "cell_type": "code",
   "execution_count": 13,
   "metadata": {},
   "outputs": [
    {
     "name": "stdout",
     "output_type": "stream",
     "text": [
      "[u'geometry', u'type', u'properties']\n",
      "[u'geometry', u'type', u'properties']\n",
      "[u'geometry', u'type', u'properties']\n",
      "[u'geometry', u'type', u'properties']\n",
      "[u'geometry', u'type', u'properties']\n",
      "[u'geometry', u'type', u'properties']\n",
      "[u'geometry', u'type', u'properties']\n",
      "[u'geometry', u'type', u'properties']\n",
      "[u'geometry', u'type', u'properties']\n",
      "[u'geometry', u'type', u'properties']\n",
      "[u'geometry', u'type', u'properties']\n",
      "[u'geometry', u'type', u'properties']\n",
      "[u'geometry', u'type', u'properties']\n",
      "[u'geometry', u'type', u'properties']\n"
     ]
    }
   ],
   "source": [
    "for f in data['features']:\n",
    "    print f.keys()"
   ]
  },
  {
   "cell_type": "code",
   "execution_count": null,
   "metadata": {
    "collapsed": true
   },
   "outputs": [],
   "source": []
  }
 ],
 "metadata": {
  "kernelspec": {
   "display_name": "Python 2",
   "language": "python",
   "name": "python2"
  },
  "language_info": {
   "codemirror_mode": {
    "name": "ipython",
    "version": 2
   },
   "file_extension": ".py",
   "mimetype": "text/x-python",
   "name": "python",
   "nbconvert_exporter": "python",
   "pygments_lexer": "ipython2",
   "version": "2.7.13"
  }
 },
 "nbformat": 4,
 "nbformat_minor": 2
}
