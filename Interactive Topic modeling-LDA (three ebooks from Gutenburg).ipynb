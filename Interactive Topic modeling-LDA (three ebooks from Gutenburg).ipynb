{
 "cells": [
  {
   "cell_type": "markdown",
   "metadata": {},
   "source": [
    "## Topic modeling\n"
   ]
  },
  {
   "cell_type": "markdown",
   "metadata": {},
   "source": [
    "### Getting text\n",
    "In this sample, texts are three ebooks with different topics from Guternburg:\n",
    "1. Adrift in New York (children fiction)\n",
    "2. Beethoven (music)\n",
    "3. Sandwiches (cook)"
   ]
  },
  {
   "cell_type": "code",
   "execution_count": 2,
   "metadata": {},
   "outputs": [
    {
     "name": "stdout",
     "output_type": "stream",
     "text": [
      "3\n"
     ]
    }
   ],
   "source": [
    "\n",
    "# define a function to get .txt files in a folder\n",
    "import codecs\n",
    "from os import listdir\n",
    "def list_textfiles(directory):\n",
    "    \"Return a list of filenames ending in '.txt' in DIRECTORY.\"\n",
    "    textfiles = []\n",
    "    for filename in listdir(directory):\n",
    "        if filename.endswith(\".txt\"):\n",
    "            textfiles.append(directory + \"/\" + filename)\n",
    "    return textfiles   \n",
    "\n",
    "# define a function to read the text in a .txt file\n",
    "\n",
    "def read_txt(filename):\n",
    "    try:\n",
    "        f = codecs.open(filename,'r','utf-8') #open(filename,'r')\n",
    "        text = f.read()\n",
    "    finally:\n",
    "        if f:\n",
    "            f.close()\n",
    "    return text\n",
    "\n",
    "#import harry potter textfiles\n",
    "filenames = list_textfiles('Plaintexts')\n",
    "raw_texts = []\n",
    "for n in filenames:\n",
    "    raw_texts.append(read_txt(n))\n",
    "print len(raw_texts)"
   ]
  },
  {
   "cell_type": "markdown",
   "metadata": {},
   "source": [
    "### Preprocessing\n",
    "- remove stopwords\n",
    "- remove puctuation\n",
    "- lemmatize"
   ]
  },
  {
   "cell_type": "code",
   "execution_count": 3,
   "metadata": {
    "collapsed": true
   },
   "outputs": [],
   "source": [
    "\n",
    "from nltk.corpus import stopwords \n",
    "from nltk.stem.wordnet import WordNetLemmatizer\n",
    "from nltk.tokenize import word_tokenize\n",
    "import string\n",
    "\n",
    "\n",
    "clean_texts = []\n",
    "for text in raw_texts:\n",
    "    # tokenize\n",
    "    tok = \" \".join(word_tokenize(text))\n",
    "   \n",
    "    #remove punctuation\n",
    "    punctuation = set(string.punctuation) \n",
    "    re_punc = \"\".join(i for i in tok if i not in punctuation)\n",
    "    \n",
    "    #remove stopwords\n",
    "    re_sw = \" \".join([i for i in re_punc.lower().split() if i not in stopwords.words('english')])\n",
    "    \n",
    "    #lemmatization\n",
    "    lemmatize = WordNetLemmatizer()\n",
    "    le = \" \".join(lemmatize.lemmatize(i) for i in re_sw.split())\n",
    "    \n",
    "    clean_texts.append(le)\n",
    "\n"
   ]
  },
  {
   "cell_type": "code",
   "execution_count": 4,
   "metadata": {
    "collapsed": true
   },
   "outputs": [],
   "source": [
    "#vectorize text\n",
    "\n",
    "from sklearn.feature_extraction.text import CountVectorizer  \n",
    "n_features = 1000\n",
    "tf_vectorizer = CountVectorizer(min_df = 2,\n",
    "                                strip_accents = 'unicode',\n",
    "                                max_features=n_features,\n",
    "                                stop_words='english')\n",
    "tf = tf_vectorizer.fit_transform(clean_texts)"
   ]
  },
  {
   "cell_type": "markdown",
   "metadata": {},
   "source": [
    "### LDA topic modeling\n",
    "\n",
    "A simple exaple to explain LDA topic modeling:\n",
    "\n",
    "Suppose you have the following set of sentences:\n",
    "\n",
    "I like to eat broccoli and bananas.\n",
    "I ate a banana and spinach smoothie for breakfast.\n",
    "Chinchillas and kittens are cute.\n",
    "My sister adopted a kitten yesterday.\n",
    "Look at this cute hamster munching on a piece of broccoli.\n",
    "What is latent Dirichlet allocation? It’s a way of automatically discovering topics that these sentences contain. For example, given these sentences and asked for 2 topics, LDA might produce something like\n",
    "\n",
    "Sentences 1 and 2: 100% Topic A\n",
    "Sentences 3 and 4: 100% Topic B\n",
    "Sentence 5: 60% Topic A, 40% Topic B\n",
    "Topic A: 30% broccoli, 15% bananas, 10% breakfast, 10% munching, … (at which point, you could interpret topic A to be about food)\n",
    "Topic B: 20% chinchillas, 20% kittens, 20% cute, 15% hamster, … (at which point, you could interpret topic B to be about cute animals)\n",
    "\n",
    "Reference: http://blog.echen.me/2011/08/22/introduction-to-latent-dirichlet-allocation/"
   ]
  },
  {
   "cell_type": "code",
   "execution_count": 5,
   "metadata": {
    "collapsed": true
   },
   "outputs": [],
   "source": [
    "from sklearn.decomposition import LatentDirichletAllocation\n",
    "n_topic = 3\n",
    "lda = LatentDirichletAllocation(n_components = n_topic, \n",
    "                                learning_method='online',\n",
    "                                max_iter=50,\n",
    "                                random_state=0)\n",
    "doctopic = lda.fit(tf)"
   ]
  },
  {
   "cell_type": "markdown",
   "metadata": {},
   "source": [
    "### Showing topics"
   ]
  },
  {
   "cell_type": "code",
   "execution_count": 6,
   "metadata": {},
   "outputs": [
    {
     "name": "stdout",
     "output_type": "stream",
     "text": [
      "Topic #0:\n",
      "work time music year life man great master project friend art letter new good mind form way world thought best\n",
      "Topic #1:\n",
      "nt said mr know boy think man uncle yes like miss asked young work say time come make good sir\n",
      "Topic #2:\n",
      "bread cut add half project work salt make gutenbergtm chicken spread buttered cover press cold white book meat fish fine\n"
     ]
    }
   ],
   "source": [
    "def print_top_words(model, feature_names, n_top_words):\n",
    "    #打印每个主题下权重较高的term\n",
    "    for topic_idx, topic in enumerate(model.components_):\n",
    "        print \"Topic #%d:\" % topic_idx\n",
    "        print \" \".join([feature_names[i]\n",
    "                        for i in topic.argsort()[:-n_top_words - 1:-1]])\n",
    "\n",
    "\n",
    "n_top_words=20\n",
    "tf_feature_names = tf_vectorizer.get_feature_names()\n",
    "print_top_words(lda, tf_feature_names, n_top_words)"
   ]
  },
  {
   "cell_type": "markdown",
   "metadata": {},
   "source": [
    "#### From the three topics, we can see that\n",
    "- topic 0: music related\n",
    "- topic 1: children related\n",
    "- topic 2: food related"
   ]
  },
  {
   "cell_type": "markdown",
   "metadata": {},
   "source": [
    "### Visualizing topic models\n",
    "#### Visualize topic distribution"
   ]
  },
  {
   "cell_type": "code",
   "execution_count": 7,
   "metadata": {},
   "outputs": [
    {
     "name": "stdout",
     "output_type": "stream",
     "text": [
      "[[  2.78220006e-04   9.99694288e-01   2.74919906e-05]\n",
      " [  9.99641689e-01   3.31086127e-04   2.72251925e-05]\n",
      " [  7.62868577e-05   7.44416846e-05   9.99849271e-01]]\n"
     ]
    }
   ],
   "source": [
    "# topic_distribution is a distribution of the topics in each text\n",
    "topic_distribution = lda.transform(tf)\n",
    "\n",
    "print topic_distribution # not normalized (sum of each row is not 1)"
   ]
  },
  {
   "cell_type": "markdown",
   "metadata": {},
   "source": [
    "The list above is a probability of topic distrubition in the three texts.\n",
    "\n",
    "Next we will try to visualize the topic distribution in a heatmap."
   ]
  },
  {
   "cell_type": "code",
   "execution_count": 9,
   "metadata": {},
   "outputs": [
    {
     "data": {
      "text/plain": [
       "<matplotlib.figure.Figure at 0x113c5eb50>"
      ]
     },
     "metadata": {},
     "output_type": "display_data"
    },
    {
     "data": {
      "image/png": "[encoded data removed]",
      "text/plain": [
       "<matplotlib.figure.Figure at 0x113d7c410>"
      ]
     },
     "metadata": {},
     "output_type": "display_data"
    }
   ],
   "source": [
    "import matplotlib.ticker as ticker\n",
    "import matplotlib.cm as cm\n",
    "import matplotlib as mpl\n",
    "import numpy as np\n",
    "\n",
    "import matplotlib.pyplot as plt\n",
    "%matplotlib inline\n",
    "\n",
    "flight_matrix = topic_distribution \n",
    "\n",
    "yLabel = ['Adrift in New York','Beethoven','Sandwiches']\n",
    "xLabel = ['topic0','topic1','topic2']\n",
    "\n",
    "fig = plt.figure()\n",
    "fig, ax = plt.subplots(1,1, figsize=(6,6))\n",
    "\n",
    "\n",
    "ax.set_xticks(np.arange(len(xLabel)))\n",
    "ax.set_yticks(np.arange(len(yLabel)))\n",
    "\n",
    "ax.set_xticklabels(xLabel)\n",
    "ax.set_yticklabels(yLabel)\n",
    "\n",
    "heatplot = ax.imshow(flight_matrix, cmap='Purples')\n"
   ]
  },
  {
   "cell_type": "markdown",
   "metadata": {},
   "source": [
    "As we discovered above:\n",
    "    \n",
    "topic 0: music related\n",
    "    \n",
    "topic 1: children related\n",
    "    \n",
    "topic 2: food related\n",
    "\n",
    "The distribution figure shows that the topics generated are correspondent with the content of the three texts."
   ]
  },
  {
   "cell_type": "code",
   "execution_count": 11,
   "metadata": {},
   "outputs": [
    {
     "name": "stderr",
     "output_type": "stream",
     "text": [
      "/Users/zjm/anaconda/lib/python2.7/site-packages/pyLDAvis/_prepare.py:387: DeprecationWarning: \n",
      ".ix is deprecated. Please use\n",
      ".loc for label based indexing or\n",
      ".iloc for positional indexing\n",
      "\n",
      "See the documentation here:\n",
      "http://pandas.pydata.org/pandas-docs/stable/indexing.html#ix-indexer-is-deprecated\n",
      "  topic_term_dists = topic_term_dists.ix[topic_order]\n"
     ]
    },
    {
     "data": {
      "text/html": [
       "\n",
       "<link rel=\"stylesheet\" type=\"text/css\" href=\"https://cdn.rawgit.com/bmabey/pyLDAvis/files/ldavis.v1.0.0.css\">\n",
       "\n",
       "\n",
       "<div id=\"ldavis_el597046617058082945188146\"></div>\n",
       "<script type=\"text/javascript\">\n",
       "\n",
       "var ldavis_el597046617058082945188146_data = {\"plot.opts\": {\"xlab\": \"PC1\", \"ylab\": \"PC2\"}, \"topic.order\": [1, 2, 3], \"token.table\": {\"Topic\": [1, 3, 1, 3, 1, 2, 1, 2, 1, 2, 1, 2, 3, 1, 2, 1, 2, 3, 1, 3, 1, 3, 1, 2, 3, 1, 2, 2, 3, 1, 2, 2, 3, 1, 2, 1, 2, 1, 3, 2, 3, 1, 3, 1, 2, 3, 2, 3, 1, 2, 1, 2, 3, 1, 2, 3, 1, 3, 1, 2, 1, 2, 2, 3, 1, 2, 3, 1, 2, 3, 1, 2, 1, 2, 1, 2, 1, 2, 3, 1, 2, 1, 2, 1, 2, 1, 2, 3, 1, 2, 1, 2, 3, 1, 3, 1, 2, 3, 1, 2, 3, 1, 2, 1, 2, 1, 2, 1, 2, 1, 2, 3, 1, 2, 3, 1, 2, 1, 2, 3, 1, 3, 1, 2, 1, 2, 3, 1, 2, 3, 1, 2, 3, 1, 2, 3, 1, 3, 1, 2, 1, 2, 1, 2, 1, 2, 3, 2, 3, 1, 2, 1, 2, 3, 2, 3, 1, 2, 1, 2, 3, 1, 2, 3, 1, 3, 1, 2, 3, 1, 2, 3, 1, 2, 3, 1, 2, 3, 1, 2, 1, 2, 3, 1, 2, 1, 2, 1, 2, 3, 2, 3, 1, 2, 1, 2, 1, 2, 1, 3, 1, 2, 3, 1, 2, 1, 2, 3, 1, 2, 1, 2, 1, 2, 3, 1, 2, 3, 1, 2, 1, 2, 1, 2, 3, 1, 2, 1, 3, 2, 3, 1, 2, 3, 1, 2, 3, 1, 2, 1, 2, 1, 2, 1, 2, 3, 1, 2, 1, 2, 3, 1, 2, 1, 2, 3, 1, 2, 3, 1, 2, 1, 2, 1, 2, 1, 2, 3, 1, 2, 1, 2, 1, 2, 3, 1, 2, 3, 1, 2, 1, 2, 3, 1, 2, 1, 2, 3, 2, 3, 1, 2, 1, 3, 1, 2, 1, 2, 3, 1, 2, 3, 1, 3, 1, 2, 1, 2, 2, 3, 1, 2, 3, 1, 2, 1, 2, 1, 2, 1, 2, 3, 2, 3, 1, 3, 1, 2, 1, 2, 3, 1, 2, 1, 2, 3, 1, 2, 3, 1, 2, 3, 1, 2, 3, 1, 2, 1, 2, 3, 1, 2, 1, 2, 1, 2, 3, 1, 2, 1, 2, 1, 2, 3], \"Freq\": [0.9223336831558763, 0.05124076017532646, 0.018112923023447507, 0.9780978432661653, 0.06023027454739047, 0.9335692554845522, 0.01365457264210167, 0.9831292302313203, 0.9374043250712033, 0.04260928750323652, 0.9688289128306363, 0.010885718121692542, 0.010885718121692542, 0.07314825175945702, 0.9243279085967752, 0.6138183743767566, 0.2475074090228857, 0.13860414905281598, 0.03807826884045874, 0.9519567210114686, 0.06645472962580513, 0.8639114851354667, 0.1036948249918028, 0.22467212081557272, 0.6740163624467183, 0.11988536284821498, 0.8791593275535765, 0.005117189129603609, 0.9927346911431002, 0.9178863549082729, 0.07867597327785196, 0.019419390737596583, 0.9709695368798291, 0.4886808978468991, 0.5071216864448953, 0.8523878368574833, 0.13259366351116408, 0.07087148558665984, 0.8504578270399181, 0.26419621868456356, 0.7133297904483216, 0.05323367515845773, 0.9049724776937813, 0.9321516907447587, 0.03655496826450034, 0.01827748413225017, 0.01841685507786879, 0.9760933191270459, 0.9408182851688921, 0.040905142833430094, 0.08685345677276732, 0.12159483948187423, 0.7816811109549058, 0.37664408402855637, 0.5927513453564165, 0.030872465903980028, 0.9510127416017798, 0.03657741313852999, 0.9048021810288652, 0.07867845052424915, 0.0503632141992315, 0.940113331718988, 0.0197788709015683, 0.9691646741768467, 0.03094113416671839, 0.015470567083359196, 0.9514398756265905, 0.4159123548285624, 0.4764086973490806, 0.1058685994109068, 0.9150387682651258, 0.08073871484692287, 0.914980890016947, 0.05382240529511453, 0.9251664618906542, 0.04869297167845548, 0.05464679292277404, 0.9289954796871587, 0.01366169823069351, 0.05687398688460925, 0.909983790153748, 0.9296222354456554, 0.04648111177228277, 0.04875112948657098, 0.9262714602448487, 0.9161575635596735, 0.05389162138586315, 0.026945810692931574, 0.9178422315608922, 0.052448127517765265, 0.3028603256588299, 0.0890765663702441, 0.6057206513176598, 0.026682685859060487, 0.9605766909261776, 0.7726948921863375, 0.0671908601901163, 0.15677867377693805, 0.9400142920971988, 0.020889206491048862, 0.020889206491048862, 0.5411164682215884, 0.45289095709850336, 0.7329730137270392, 0.2595946090283264, 0.07585288794919089, 0.9102346553902906, 0.03723603486330716, 0.9495188890143326, 0.6900015917153294, 0.19714331191866555, 0.11265332109638031, 0.42751192577007313, 0.5187144699343554, 0.05700159010267642, 0.13905579372876614, 0.8596176339596453, 0.8326714570831623, 0.15612589820309292, 0.011564881348377253, 0.9424141183872486, 0.040974526886402116, 0.9374082433328107, 0.04260946560603685, 0.34980118591551573, 0.3385172766924346, 0.3159494582462723, 0.3379451156744468, 0.3379451156744468, 0.32565620237719417, 0.05143201998675703, 0.20572807994702813, 0.7420905740946372, 0.21239974088873753, 0.7572512501250642, 0.027704314028965765, 0.03948578170057153, 0.9476587608137166, 0.3199136544117651, 0.6718186742647068, 0.927589299112169, 0.04756868200575226, 0.05388180159227172, 0.9159906270686192, 0.8387173818385192, 0.14215548844720663, 0.014215548844720663, 0.04099769560699423, 0.9429469989608674, 0.03937990015728071, 0.9451176037747371, 0.08627524017103641, 0.8771316084055368, 0.03834455118712729, 0.0664704820325879, 0.8641162664236427, 0.07143504120303443, 0.904843855238436, 0.12638844902594853, 0.8425896601729902, 0.02808632200576634, 0.7831306351395749, 0.20468187054784345, 0.008899211762949714, 0.12256121497366765, 0.8579285048156735, 0.7888005869118746, 0.20225656074663453, 0.00809026242986538, 0.2745997900714162, 0.7012101782180807, 0.02451783839923359, 0.3502258116528307, 0.4169354900628937, 0.22514516463396259, 0.04765478716678849, 0.9292683497523756, 0.011913696791697122, 0.12411655981679443, 0.868815918717561, 0.27358257749871295, 0.46411330111388804, 0.2638117711594732, 0.4921967441110685, 0.5084946495452098, 0.9655825524218052, 0.028609853405090525, 0.6844746151460024, 0.2360257293606905, 0.08260900527624167, 0.024827045285855248, 0.9682547661483547, 0.565152561684995, 0.4353202164330366, 0.9673562373322075, 0.027638749638063072, 0.02048299293381637, 0.9763559965119137, 0.035550670066218044, 0.9243174217216691, 0.30905752840563366, 0.6587805210751665, 0.0243992785583395, 0.9419771432677638, 0.0538272653295865, 0.013458386368941515, 0.8963285321715049, 0.088825350035014, 0.9618316958527665, 0.032843033516923734, 0.9707121245257151, 0.017334145080816342, 0.8418426277801174, 0.11376251726758344, 0.022752503453516686, 0.41164407767851363, 0.46309958738832785, 0.1234932233035541, 0.9408000496662806, 0.04090434998549046, 0.0018355002976892, 0.9966766616452356, 0.9285621805046147, 0.023809286679605503, 0.023809286679605503, 0.9336944094393943, 0.04446163854473306, 0.05920427463484814, 0.9176662568401462, 0.9170240900117937, 0.07336192720094349, 0.7487239529188875, 0.18024835903602848, 0.06932629193693403, 0.9280779823772383, 0.03200268904749098, 0.03200268904749098, 0.8654898117566951, 0.11802133796682206, 0.9521410390719801, 0.035264482928591856, 0.07529437853809368, 0.9185914181647429, 0.06081256474276032, 0.03040628237138016, 0.8817821887700247, 0.9178774482730704, 0.07867520985197746, 0.05707979422876789, 0.019026598076255966, 0.9132767076602862, 0.7896543152982434, 0.19741357882456084, 0.36979595235991647, 0.3207413872509479, 0.3094211029950321, 0.03228543253406697, 0.03228543253406697, 0.903992110953875, 0.2362675299781227, 0.765056763738683, 0.060221117488669915, 0.9033167623300488, 0.11178763268044185, 0.886316230537789, 0.01334345270668111, 0.02668690541336222, 0.9473851421743589, 0.24759155952991432, 0.7494663423608218, 0.0602168553390244, 0.903252830085366, 0.16267605374624566, 0.08133802687312283, 0.7320422418581055, 0.10603650332143354, 0.8718556939762313, 0.023563667404763008, 0.03167314706269156, 0.9607521275683106, 0.053119021976919305, 0.053119021976919305, 0.8499043516307089, 0.9204175731712404, 0.06817907949416596, 0.03741734976369573, 0.018708674881847864, 0.9354337440923932, 0.08511698452340491, 0.8937283374957515, 0.9336691481238821, 0.04446043562494677, 0.07603410546009468, 0.9124092655211361, 0.06022389126212845, 0.9033583689319268, 0.03662987627216735, 0.9157469068041838, 0.03662987627216735, 0.8241229157039213, 0.0932969338532741, 0.07774744487772842, 0.9321425081566947, 0.06214283387711299, 0.046543618470625, 0.9308723694125001, 0.9468715908130597, 0.03787486363252239, 0.10121967811066006, 0.8603672639406105, 0.0811807741731665, 0.8929885159048315, 0.020295193543291627, 0.031997364090907456, 0.9599209227272236, 0.047911701798156875, 0.9462561105135983, 0.46389751446930644, 0.5375320405755456, 0.6683442753603802, 0.30941864600017605, 0.02165930522001232, 0.046325255255967396, 0.926505105119348, 0.0966290948914414, 0.8696618540229726, 0.08777774143532933, 0.9128885109274251, 0.4283506582617772, 0.2080560340128632, 0.36715770708152334, 0.051182693260501795, 0.9212884786890323, 0.16249239597152706, 0.8124619798576354, 0.024998830149465703, 0.027272694086505282, 0.08181808225951584, 0.872726210768169, 0.4664802743890039, 0.40724468399040026, 0.1258756295970328, 0.0393926082704344, 0.0787852165408688, 0.8666373819495569, 0.017067571826777414, 0.9728515941263125, 0.6661815867615427, 0.20318538396227054, 0.1315708633854047, 0.882724097852772, 0.11209194893368533, 0.9624907174666735, 0.030077834920833546, 0.811936564406279, 0.1632033295289003, 0.024480499429335046, 0.006565171969199459, 0.9913409673491184, 0.10095291888398836, 0.8941544244010398, 0.3130269140739043, 0.6791092373128772, 0.005305540916506853], \"Term\": [\"ability\", \"ability\", \"add\", \"add\", \"afraid\", \"afraid\", \"answered\", \"answered\", \"apparent\", \"apparent\", \"art\", \"art\", \"art\", \"asked\", \"asked\", \"best\", \"best\", \"best\", \"boiled\", \"boiled\", \"boiling\", \"boiling\", \"book\", \"book\", \"book\", \"boy\", \"boy\", \"bread\", \"bread\", \"brother\", \"brother\", \"buttered\", \"buttered\", \"came\", \"came\", \"case\", \"case\", \"caviar\", \"caviar\", \"cent\", \"cent\", \"center\", \"center\", \"character\", \"character\", \"character\", \"chicken\", \"chicken\", \"church\", \"church\", \"cold\", \"cold\", \"cold\", \"come\", \"come\", \"come\", \"composed\", \"composed\", \"count\", \"count\", \"cousin\", \"cousin\", \"cover\", \"cover\", \"cut\", \"cut\", \"cut\", \"day\", \"day\", \"day\", \"death\", \"death\", \"degree\", \"degree\", \"development\", \"development\", \"dollar\", \"dollar\", \"dollar\", \"drink\", \"drink\", \"element\", \"element\", \"expect\", \"expect\", \"extent\", \"extent\", \"extent\", \"finally\", \"finally\", \"fine\", \"fine\", \"fine\", \"fish\", \"fish\", \"form\", \"form\", \"form\", \"frequently\", \"frequently\", \"frequently\", \"friend\", \"friend\", \"gave\", \"gave\", \"gentleman\", \"gentleman\", \"girl\", \"girl\", \"given\", \"given\", \"given\", \"good\", \"good\", \"good\", \"got\", \"got\", \"great\", \"great\", \"great\", \"greatest\", \"greatest\", \"greatly\", \"greatly\", \"gutenberg\", \"gutenberg\", \"gutenberg\", \"gutenbergtm\", \"gutenbergtm\", \"gutenbergtm\", \"half\", \"half\", \"half\", \"home\", \"home\", \"home\", \"hot\", \"hot\", \"house\", \"house\", \"humor\", \"humor\", \"husband\", \"husband\", \"idea\", \"idea\", \"idea\", \"inch\", \"inch\", \"julius\", \"julius\", \"know\", \"know\", \"know\", \"la\", \"la\", \"leave\", \"leave\", \"let\", \"let\", \"let\", \"letter\", \"letter\", \"letter\", \"level\", \"level\", \"life\", \"life\", \"life\", \"like\", \"like\", \"like\", \"little\", \"little\", \"little\", \"look\", \"look\", \"look\", \"looked\", \"looked\", \"make\", \"make\", \"make\", \"man\", \"man\", \"master\", \"master\", \"matter\", \"matter\", \"matter\", \"meat\", \"meat\", \"mind\", \"mind\", \"minor\", \"minor\", \"miss\", \"miss\", \"mix\", \"mix\", \"money\", \"money\", \"money\", \"movement\", \"movement\", \"mr\", \"mr\", \"mr\", \"music\", \"music\", \"musician\", \"musician\", \"nature\", \"nature\", \"nature\", \"new\", \"new\", \"new\", \"ninth\", \"ninth\", \"nt\", \"nt\", \"occasion\", \"occasion\", \"occasion\", \"occupied\", \"occupied\", \"olive\", \"olive\", \"ought\", \"ought\", \"people\", \"people\", \"people\", \"performance\", \"performance\", \"performance\", \"piano\", \"piano\", \"played\", \"played\", \"poor\", \"poor\", \"pound\", \"pound\", \"pound\", \"power\", \"power\", \"press\", \"press\", \"press\", \"probably\", \"probably\", \"project\", \"project\", \"project\", \"remove\", \"remove\", \"remove\", \"room\", \"room\", \"sad\", \"sad\", \"said\", \"said\", \"salt\", \"salt\", \"salt\", \"say\", \"say\", \"secretary\", \"secretary\", \"serve\", \"serve\", \"serve\", \"shall\", \"shall\", \"shall\", \"sir\", \"sir\", \"smooth\", \"smooth\", \"smooth\", \"spirit\", \"spirit\", \"spread\", \"spread\", \"spread\", \"square\", \"square\", \"stated\", \"stated\", \"stir\", \"stir\", \"stranger\", \"stranger\", \"street\", \"street\", \"street\", \"subject\", \"subject\", \"subject\", \"summer\", \"summer\", \"suppose\", \"suppose\", \"talent\", \"talent\", \"tea\", \"tea\", \"tell\", \"tell\", \"tell\", \"thank\", \"thank\", \"think\", \"think\", \"thought\", \"thought\", \"time\", \"time\", \"time\", \"toast\", \"toast\", \"tongue\", \"tongue\", \"uncle\", \"uncle\", \"use\", \"use\", \"use\", \"walked\", \"walked\", \"want\", \"want\", \"want\", \"water\", \"water\", \"water\", \"way\", \"way\", \"way\", \"white\", \"white\", \"white\", \"wo\", \"wo\", \"work\", \"work\", \"work\", \"world\", \"world\", \"wrote\", \"wrote\", \"year\", \"year\", \"year\", \"yes\", \"yes\", \"york\", \"york\", \"young\", \"young\", \"young\"]}, \"mdsDat\": {\"y\": [-0.10031184358137687, 0.0811319658350024, 0.01917987774637433], \"cluster\": [1, 1, 1], \"Freq\": [43.1447820058165, 42.32652185477376, 14.52869613940973], \"topics\": [1, 2, 3], \"x\": [-0.07051733652198572, -0.13601216979814912, 0.20652950632013486]}, \"R\": 30, \"lambda.step\": 0.01, \"tinfo\": {\"Category\": [\"Default\", \"Default\", \"Default\", \"Default\", \"Default\", \"Default\", \"Default\", \"Default\", \"Default\", \"Default\", \"Default\", \"Default\", \"Default\", \"Default\", \"Default\", \"Default\", \"Default\", \"Default\", \"Default\", \"Default\", \"Default\", \"Default\", \"Default\", \"Default\", \"Default\", \"Default\", \"Default\", \"Default\", \"Default\", \"Default\", \"Topic1\", \"Topic1\", \"Topic1\", \"Topic1\", \"Topic1\", \"Topic1\", \"Topic1\", \"Topic1\", \"Topic1\", \"Topic1\", \"Topic1\", \"Topic1\", \"Topic1\", \"Topic1\", \"Topic1\", \"Topic1\", \"Topic1\", \"Topic1\", \"Topic1\", \"Topic1\", \"Topic1\", \"Topic1\", \"Topic1\", \"Topic1\", \"Topic1\", \"Topic1\", \"Topic1\", \"Topic1\", \"Topic1\", \"Topic1\", \"Topic1\", \"Topic1\", \"Topic1\", \"Topic1\", \"Topic1\", \"Topic1\", \"Topic1\", \"Topic1\", \"Topic1\", \"Topic1\", \"Topic1\", \"Topic1\", \"Topic1\", \"Topic1\", \"Topic1\", \"Topic1\", \"Topic1\", \"Topic1\", \"Topic1\", \"Topic1\", \"Topic1\", \"Topic1\", \"Topic1\", \"Topic1\", \"Topic1\", \"Topic1\", \"Topic1\", \"Topic1\", \"Topic1\", \"Topic1\", \"Topic1\", \"Topic1\", \"Topic1\", \"Topic1\", \"Topic1\", \"Topic1\", \"Topic1\", \"Topic1\", \"Topic1\", \"Topic2\", \"Topic2\", \"Topic2\", \"Topic2\", \"Topic2\", \"Topic2\", \"Topic2\", \"Topic2\", \"Topic2\", \"Topic2\", \"Topic2\", \"Topic2\", \"Topic2\", \"Topic2\", \"Topic2\", \"Topic2\", \"Topic2\", \"Topic2\", \"Topic2\", \"Topic2\", \"Topic2\", \"Topic2\", \"Topic2\", \"Topic2\", \"Topic2\", \"Topic2\", \"Topic2\", \"Topic2\", \"Topic2\", \"Topic2\", \"Topic2\", \"Topic2\", \"Topic2\", \"Topic2\", \"Topic2\", \"Topic2\", \"Topic2\", \"Topic2\", \"Topic2\", \"Topic2\", \"Topic2\", \"Topic2\", \"Topic2\", \"Topic2\", \"Topic2\", \"Topic2\", \"Topic2\", \"Topic2\", \"Topic2\", \"Topic2\", \"Topic2\", \"Topic2\", \"Topic2\", \"Topic2\", \"Topic2\", \"Topic2\", \"Topic2\", \"Topic3\", \"Topic3\", \"Topic3\", \"Topic3\", \"Topic3\", \"Topic3\", \"Topic3\", \"Topic3\", \"Topic3\", \"Topic3\", \"Topic3\", \"Topic3\", \"Topic3\", \"Topic3\", \"Topic3\", \"Topic3\", \"Topic3\", \"Topic3\", \"Topic3\", \"Topic3\", \"Topic3\", \"Topic3\", \"Topic3\", \"Topic3\", \"Topic3\", \"Topic3\", \"Topic3\", \"Topic3\", \"Topic3\", \"Topic3\", \"Topic3\", \"Topic3\", \"Topic3\", \"Topic3\", \"Topic3\", \"Topic3\", \"Topic3\", \"Topic3\", \"Topic3\", \"Topic3\", \"Topic3\", \"Topic3\", \"Topic3\", \"Topic3\", \"Topic3\"], \"Term\": [\"nt\", \"bread\", \"said\", \"cut\", \"add\", \"half\", \"mr\", \"music\", \"salt\", \"project\", \"yes\", \"work\", \"think\", \"miss\", \"chicken\", \"buttered\", \"spread\", \"boy\", \"cover\", \"master\", \"uncle\", \"press\", \"cold\", \"asked\", \"white\", \"gutenbergtm\", \"make\", \"know\", \"meat\", \"book\", \"art\", \"musician\", \"master\", \"music\", \"minor\", \"wrote\", \"frequently\", \"played\", \"composed\", \"occasion\", \"talent\", \"humor\", \"character\", \"greatest\", \"church\", \"ninth\", \"finally\", \"apparent\", \"greatly\", \"movement\", \"occupied\", \"stated\", \"element\", \"summer\", \"development\", \"ability\", \"performance\", \"degree\", \"spirit\", \"count\", \"brother\", \"power\", \"extent\", \"world\", \"death\", \"great\", \"year\", \"life\", \"piano\", \"work\", \"idea\", \"letter\", \"case\", \"time\", \"subject\", \"form\", \"nature\", \"people\", \"man\", \"probably\", \"friend\", \"matter\", \"mind\", \"gave\", \"best\", \"project\", \"new\", \"good\", \"given\", \"way\", \"thought\", \"come\", \"came\", \"young\", \"day\", \"gutenbergtm\", \"like\", \"make\", \"said\", \"nt\", \"yes\", \"answered\", \"miss\", \"wo\", \"sir\", \"girl\", \"think\", \"thank\", \"cousin\", \"suppose\", \"julius\", \"look\", \"dollar\", \"asked\", \"afraid\", \"expect\", \"street\", \"poor\", \"walked\", \"leave\", \"gentleman\", \"husband\", \"uncle\", \"ought\", \"drink\", \"stranger\", \"sad\", \"secretary\", \"mr\", \"said\", \"tell\", \"york\", \"boy\", \"know\", \"shall\", \"looked\", \"got\", \"let\", \"say\", \"like\", \"want\", \"young\", \"home\", \"man\", \"house\", \"come\", \"money\", \"room\", \"good\", \"make\", \"new\", \"work\", \"time\", \"project\", \"friend\", \"thought\", \"bread\", \"add\", \"chicken\", \"buttered\", \"cover\", \"meat\", \"fish\", \"salt\", \"cut\", \"mix\", \"boiled\", \"hot\", \"inch\", \"spread\", \"toast\", \"olive\", \"remove\", \"press\", \"center\", \"stir\", \"la\", \"boiling\", \"pound\", \"square\", \"caviar\", \"water\", \"tongue\", \"white\", \"tea\", \"smooth\", \"level\", \"half\", \"cold\", \"serve\", \"book\", \"cent\", \"fine\", \"project\", \"gutenbergtm\", \"make\", \"work\", \"use\", \"gutenberg\", \"mr\", \"little\"], \"loglift\": [30.0, 29.0, 28.0, 27.0, 26.0, 25.0, 24.0, 23.0, 22.0, 21.0, 20.0, 19.0, 18.0, 17.0, 16.0, 15.0, 14.0, 13.0, 12.0, 11.0, 10.0, 9.0, 8.0, 7.0, 6.0, 5.0, 4.0, 3.0, 2.0, 1.0, 0.8117, 0.8113, 0.8068, 0.8041, 0.7938, 0.7897, 0.7848, 0.7807, 0.7799, 0.7769, 0.7764, 0.7759, 0.7729, 0.7725, 0.7711, 0.7708, 0.7689, 0.7682, 0.7681, 0.7672, 0.7649, 0.7648, 0.7612, 0.7581, 0.7574, 0.7551, 0.7544, 0.7482, 0.7469, 0.746, 0.7413, 0.7413, 0.7396, 0.7137, 0.7385, 0.6571, 0.6306, 0.602, 0.703, 0.4344, 0.6641, 0.5992, 0.6869, 0.4389, 0.6489, 0.5788, 0.6808, 0.5526, 0.1302, 0.6111, 0.2283, 0.461, 0.2644, 0.5343, 0.3506, -0.1537, -0.0413, -0.0149, 0.473, 0.076, 0.0703, -0.1375, 0.1262, -0.3218, -0.0357, -0.2432, -0.4513, -0.4549, -1.3502, 0.8565, 0.8487, 0.8369, 0.8346, 0.8313, 0.8209, 0.8095, 0.8074, 0.8059, 0.7974, 0.7969, 0.7932, 0.7918, 0.7814, 0.7807, 0.7777, 0.7767, 0.7739, 0.7724, 0.7723, 0.7703, 0.769, 0.7676, 0.7656, 0.7623, 0.7623, 0.7564, 0.7563, 0.7562, 0.7508, 0.7402, 0.7488, 0.7449, 0.7313, 0.7279, 0.7163, 0.7186, 0.7038, 0.6865, 0.568, 0.5039, 0.6484, 0.4746, 0.5857, 0.181, 0.4654, 0.3372, 0.447, 0.5874, 0.205, 0.0932, 0.0921, -0.7372, -0.3134, -0.2726, 0.0741, 0.2333, 1.9196, 1.904, 1.8971, 1.8954, 1.8948, 1.8862, 1.8829, 1.8787, 1.8761, 1.8678, 1.8631, 1.8608, 1.8585, 1.8582, 1.8487, 1.8471, 1.8396, 1.8369, 1.8363, 1.8229, 1.8123, 1.8123, 1.8119, 1.8096, 1.8041, 1.7945, 1.7924, 1.7903, 1.7858, 1.7782, 1.769, 1.6322, 1.6856, 1.6316, 1.5242, 1.6056, 1.4256, 0.7505, 0.7998, 0.5882, -0.101, 0.9335, 0.7889, -0.4895, 0.4539], \"Freq\": [544.0, 195.0, 500.0, 129.0, 110.0, 136.0, 371.0, 213.0, 74.0, 265.0, 152.0, 600.0, 166.0, 146.0, 54.0, 51.0, 53.0, 200.0, 50.0, 139.0, 170.0, 52.0, 57.0, 150.0, 50.0, 162.0, 204.0, 208.0, 40.0, 57.0, 89.24479995562578, 56.020795182805934, 135.15883207950893, 205.4984352710209, 34.52666509981167, 31.596518431539675, 45.273676996330394, 26.709348636571484, 25.72833037415326, 39.40929162990252, 24.760270310543355, 39.40866680148842, 51.13265002807416, 22.798222378817535, 22.804528458696904, 22.798010859454603, 35.494711352695546, 21.828915204578493, 21.82698826952205, 34.52737101285121, 20.850979075955998, 20.84890495451043, 19.872485651031486, 29.635471144392152, 18.896309378945062, 17.915537521073002, 28.665087023659694, 16.939849631029702, 26.71114020179663, 46.24957476463161, 34.52705369846373, 34.525788150697124, 33.546194911237265, 62.8645101856988, 33.54948719724235, 143.94959587544054, 198.66960918982087, 194.72423656057956, 44.30205801932219, 399.986048599582, 58.9626001482187, 88.26821891242348, 45.26888026415606, 216.26512798262465, 53.09087223108368, 68.7257472548758, 37.46099305974893, 54.07510479752158, 150.76479697103434, 44.29147964066124, 92.1691831984437, 57.96985101813728, 73.59237418392537, 48.20859685871945, 61.88091810860637, 98.04957077181516, 80.45817478325893, 74.57077397983561, 49.168705536723245, 62.86847288250804, 62.860417595343854, 60.89859976035372, 53.088240258441004, 58.94300395450694, 55.05105410609954, 55.056413440581, 56.02757119830119, 56.03705564894979, 56.01965342942948, 543.0635821819959, 150.64979575564604, 71.5840314477661, 142.82587853388907, 56.94929122173042, 91.10903602130115, 51.08085801658035, 158.45872864544643, 29.61526100114042, 55.964161098233575, 40.35086986864008, 23.759733006460607, 78.42067091174884, 67.6833366509662, 138.95485676002426, 30.590948881429462, 18.877190942956897, 50.10881510095503, 60.85113061272935, 17.90262139656622, 38.400679473786546, 48.159536026544195, 16.925928253044518, 155.5278326485153, 24.730607055441357, 15.949673992888332, 14.97363920158871, 14.973219698245195, 14.972585577654046, 333.17107983211906, 444.4832214031458, 88.19824419956656, 61.816723934333524, 176.05666671781708, 182.86804243240445, 73.53481255987683, 55.969557355465355, 67.68119079688904, 59.88327949779306, 111.62190103314518, 142.87514518271735, 64.76417305276546, 128.238744159052, 82.32745347370384, 155.6126903808039, 84.28287720267863, 96.04206577004348, 81.37140015510627, 67.68908975064771, 91.14921403033591, 95.10254295251903, 90.19562461974533, 121.598272828857, 99.9877987466064, 85.40838866868577, 77.49995175861802, 72.58270639560268, 193.5767738345542, 107.68557716058245, 52.591228117661, 49.79074684364393, 48.85609502790337, 38.58793102634731, 35.78904535426851, 71.26537569285826, 122.61557959380623, 26.45753044342027, 24.585962993372345, 23.654787942444614, 22.72963016010551, 49.79660668987836, 19.91935286490796, 31.12494638700463, 28.323293200118854, 47.931764041853484, 17.120649422210715, 23.655310335814033, 13.387010471252044, 13.390011374598743, 29.2531291330916, 20.85073607497531, 12.452950113774653, 32.05024287445287, 18.054914773013767, 44.19519649349006, 17.12183602421666, 16.189586698503692, 20.856498424774117, 101.14255959973305, 45.127567974911486, 27.39463751075817, 38.59857321971876, 27.391327085681045, 33.92842469879469, 81.55305372661502, 52.61228770479909, 53.551798460405294, 78.85256837586977, 30.19421060448646, 28.33977176348694, 33.08264513910465, 27.433129452471434], \"Total\": [544.0, 195.0, 500.0, 129.0, 110.0, 136.0, 371.0, 213.0, 74.0, 265.0, 152.0, 600.0, 166.0, 146.0, 54.0, 51.0, 53.0, 200.0, 50.0, 139.0, 170.0, 52.0, 57.0, 150.0, 50.0, 162.0, 204.0, 208.0, 40.0, 57.0, 91.86348468891983, 57.68960599658865, 139.81197118920866, 213.13500156412044, 36.181086810918416, 33.247073887866364, 47.87161256836182, 28.357143418916166, 27.33927618699251, 42.000418301341945, 26.402735326057254, 42.044469505338604, 54.71212518989551, 24.405406870771262, 24.4468037692009, 24.447277620955198, 38.132915218423356, 23.46906176086709, 23.46896366281396, 37.15589093657127, 22.491298852917787, 22.49190737660923, 21.514115344295867, 32.18392009535622, 20.536844754588195, 19.515713595551258, 31.24737419771294, 18.57962301232885, 29.33451162494998, 50.83984208315309, 38.13108214632699, 38.13145215175548, 37.11152028030539, 71.36997863006982, 37.156895619256154, 172.93735575424935, 245.09303894389444, 247.21076940804247, 50.838264532187466, 600.4368898043087, 70.34550764963096, 112.36950267475622, 52.792869694037954, 323.1867287013566, 64.31079513755574, 89.29785960505671, 43.951207481101925, 72.12270929690699, 306.78788879986075, 55.720584498270874, 170.01885065956964, 84.73652450592088, 130.9380953337095, 65.48672202258638, 101.00707731819205, 265.01101316711595, 194.34264778243332, 175.43370249824778, 71.01432893536816, 135.05394216833162, 135.80585805050345, 161.9566125864733, 108.45523169314589, 188.48219545131622, 132.23939938661067, 162.74832050830182, 203.9331493495893, 204.6913970618741, 500.94986947333086, 544.8105899295948, 152.3189346282939, 73.23553993309622, 146.46297099713166, 58.590642544189805, 94.7174587375866, 53.711411737097286, 166.97382267285178, 31.2525743420273, 59.56728631600676, 42.97044505171545, 25.39366519483458, 83.93700271916595, 73.19734216887595, 150.37953382908918, 33.20589213695776, 20.512345263209966, 54.600239027279194, 66.4060199058599, 19.537854229560644, 41.99619611715946, 52.73365468536083, 18.559141870702227, 170.88614670099847, 27.262097334518746, 17.582730783915054, 16.60470585747165, 16.605470667131698, 16.606646002517763, 371.5155638226222, 500.94986947333086, 98.54550023057455, 69.33925316259712, 200.19124461746037, 208.63459741538693, 84.87643139945749, 64.45554091902494, 79.10493842101924, 71.209039032928, 149.43966615925618, 203.9331493495893, 80.00374369689239, 188.48219545131622, 108.28638445490482, 306.78788879986075, 125.03373784888677, 161.9566125864733, 122.954455101076, 88.88229373686899, 175.43370249824778, 204.6913970618741, 194.34264778243332, 600.4368898043087, 323.1867287013566, 265.01101316711595, 170.01885065956964, 135.80585805050345, 195.41978509546755, 110.41840112780051, 54.298087038849665, 51.49492141707448, 50.55900334132361, 40.27865533276856, 37.477486534978475, 74.94312169288064, 129.2777432930229, 28.12886502947375, 26.261698087952063, 25.325571811727, 24.39161482601474, 53.45113998267469, 21.586497353863685, 33.781344545395086, 30.97372162955597, 52.55800306455935, 18.785101667757402, 26.303985400994414, 15.044271824442898, 15.047837913581528, 32.88794032055848, 23.497073013084165, 14.110047104589412, 36.66671128375275, 20.697699820606964, 50.77094632246206, 19.75900375629991, 18.82564781472274, 24.477564135151173, 136.1019847519579, 57.56823258147784, 36.88311747074496, 57.86209678712807, 37.850655281101794, 56.131485571835455, 265.01101316711595, 162.74832050830182, 204.6913970618741, 600.4368898043087, 81.70875735788063, 88.6217693026551, 371.5155638226222, 119.92262877995256], \"logprob\": [30.0, 29.0, 28.0, 27.0, 26.0, 25.0, 24.0, 23.0, 22.0, 21.0, 20.0, 19.0, 18.0, 17.0, 16.0, 15.0, 14.0, 13.0, 12.0, 11.0, 10.0, 9.0, 8.0, 7.0, 6.0, 5.0, 4.0, 3.0, 2.0, 1.0, -5.0953, -5.5609, -4.6802, -4.2612, -6.0449, -6.1336, -5.7739, -6.3016, -6.3391, -5.9127, -6.3774, -5.9127, -5.6522, -6.46, -6.4597, -6.46, -6.0173, -6.5034, -6.5035, -6.0449, -6.5493, -6.5494, -6.5973, -6.1977, -6.6477, -6.701, -6.231, -6.757, -6.3016, -5.7526, -6.0449, -6.045, -6.0737, -5.4457, -6.0736, -4.6172, -4.295, -4.3151, -5.7956, -3.5952, -5.5098, -5.1063, -5.774, -4.2102, -5.6147, -5.3565, -5.9634, -5.5963, -4.5709, -5.7959, -5.063, -5.5267, -5.2881, -5.7111, -5.4614, -5.0012, -5.1989, -5.2749, -5.6914, -5.4456, -5.4457, -5.4775, -5.6147, -5.5101, -5.5784, -5.5783, -5.5608, -5.5606, -5.561, -3.2703, -4.5526, -5.2966, -4.6059, -5.5254, -5.0555, -5.6341, -4.502, -6.1792, -5.5428, -5.8699, -6.3995, -5.2054, -5.3527, -4.6334, -6.1468, -6.6296, -5.6533, -5.4591, -6.6826, -5.9194, -5.693, -6.7387, -4.5207, -6.3595, -6.7981, -6.8612, -6.8612, -6.8613, -3.7589, -3.4706, -5.0879, -5.4433, -4.3967, -4.3587, -5.2698, -5.5427, -5.3527, -5.4751, -4.8524, -4.6055, -5.3968, -4.7136, -5.1568, -4.5201, -5.1333, -5.0027, -5.1685, -5.3526, -5.055, -5.0126, -5.0655, -4.7668, -4.9625, -5.1201, -5.2172, -5.2828, -3.2326, -3.819, -4.5357, -4.5904, -4.6093, -4.8453, -4.9206, -4.2318, -3.6892, -5.2227, -5.296, -5.3347, -5.3746, -4.5903, -5.5065, -5.0602, -5.1545, -4.6284, -5.6579, -5.3346, -5.9039, -5.9037, -5.1222, -5.4608, -5.9763, -5.0309, -5.6048, -4.7096, -5.6579, -5.7139, -5.4606, -3.8817, -4.6887, -5.1879, -4.845, -5.188, -4.974, -4.097, -4.5353, -4.5176, -4.1306, -5.0906, -5.154, -4.9992, -5.1865]}};\n",
       "\n",
       "function LDAvis_load_lib(url, callback){\n",
       "  var s = document.createElement('script');\n",
       "  s.src = url;\n",
       "  s.async = true;\n",
       "  s.onreadystatechange = s.onload = callback;\n",
       "  s.onerror = function(){console.warn(\"failed to load library \" + url);};\n",
       "  document.getElementsByTagName(\"head\")[0].appendChild(s);\n",
       "}\n",
       "\n",
       "if(typeof(LDAvis) !== \"undefined\"){\n",
       "   // already loaded: just create the visualization\n",
       "   !function(LDAvis){\n",
       "       new LDAvis(\"#\" + \"ldavis_el597046617058082945188146\", ldavis_el597046617058082945188146_data);\n",
       "   }(LDAvis);\n",
       "}else if(typeof define === \"function\" && define.amd){\n",
       "   // require.js is available: use it to load d3/LDAvis\n",
       "   require.config({paths: {d3: \"https://cdnjs.cloudflare.com/ajax/libs/d3/3.5.5/d3.min\"}});\n",
       "   require([\"d3\"], function(d3){\n",
       "      window.d3 = d3;\n",
       "      LDAvis_load_lib(\"https://cdn.rawgit.com/bmabey/pyLDAvis/files/ldavis.v1.0.0.js\", function(){\n",
       "        new LDAvis(\"#\" + \"ldavis_el597046617058082945188146\", ldavis_el597046617058082945188146_data);\n",
       "      });\n",
       "    });\n",
       "}else{\n",
       "    // require.js not available: dynamically load d3 & LDAvis\n",
       "    LDAvis_load_lib(\"https://cdnjs.cloudflare.com/ajax/libs/d3/3.5.5/d3.min.js\", function(){\n",
       "         LDAvis_load_lib(\"https://cdn.rawgit.com/bmabey/pyLDAvis/files/ldavis.v1.0.0.js\", function(){\n",
       "                 new LDAvis(\"#\" + \"ldavis_el597046617058082945188146\", ldavis_el597046617058082945188146_data);\n",
       "            })\n",
       "         });\n",
       "}\n",
       "</script>"
      ],
      "text/plain": [
       "PreparedData(topic_coordinates=            Freq  cluster  topics         x         y\n",
       "topic                                                \n",
       "0      43.144782        1       1 -0.070517 -0.100312\n",
       "1      42.326522        1       2 -0.136012  0.081132\n",
       "2      14.528696        1       3  0.206530  0.019180, topic_info=     Category        Freq         Term       Total  loglift  logprob\n",
       "term                                                                \n",
       "617   Default  544.000000           nt  544.000000  30.0000  30.0000\n",
       "150   Default  195.000000        bread  195.000000  29.0000  29.0000\n",
       "790   Default  500.000000         said  500.000000  28.0000  28.0000\n",
       "234   Default  129.000000          cut  129.000000  27.0000  27.0000\n",
       "72    Default  110.000000          add  110.000000  26.0000  26.0000\n",
       "431   Default  136.000000         half  136.000000  25.0000  25.0000\n",
       "597   Default  371.000000           mr  371.000000  24.0000  24.0000\n",
       "598   Default  213.000000        music  213.000000  23.0000  23.0000\n",
       "791   Default   74.000000         salt   74.000000  22.0000  22.0000\n",
       "718   Default  265.000000      project  265.000000  21.0000  21.0000\n",
       "996   Default  152.000000          yes  152.000000  20.0000  20.0000\n",
       "986   Default  600.000000         work  600.000000  19.0000  19.0000\n",
       "916   Default  166.000000        think  166.000000  18.0000  18.0000\n",
       "586   Default  146.000000         miss  146.000000  17.0000  17.0000\n",
       "181   Default   54.000000      chicken   54.000000  16.0000  16.0000\n",
       "155   Default   51.000000     buttered   51.000000  15.0000  15.0000\n",
       "855   Default   53.000000       spread   53.000000  14.0000  14.0000\n",
       "149   Default  200.000000          boy  200.000000  13.0000  13.0000\n",
       "232   Default   50.000000        cover   50.000000  12.0000  12.0000\n",
       "566   Default  139.000000       master  139.000000  11.0000  11.0000\n",
       "942   Default  170.000000        uncle  170.000000  10.0000  10.0000\n",
       "705   Default   52.000000        press   52.000000   9.0000   9.0000\n",
       "193   Default   57.000000         cold   57.000000   8.0000   8.0000\n",
       "112   Default  150.000000        asked  150.000000   7.0000   7.0000\n",
       "975   Default   50.000000        white   50.000000   6.0000   6.0000\n",
       "428   Default  162.000000  gutenbergtm  162.000000   5.0000   5.0000\n",
       "558   Default  204.000000         make  204.000000   4.0000   4.0000\n",
       "502   Default  208.000000         know  208.000000   3.0000   3.0000\n",
       "573   Default   40.000000         meat   40.000000   2.0000   2.0000\n",
       "146   Default   57.000000         book   57.000000   1.0000   1.0000\n",
       "...       ...         ...          ...         ...      ...      ...\n",
       "634    Topic3   31.124946        olive   33.781345   1.8471  -5.0602\n",
       "766    Topic3   28.323293       remove   30.973722   1.8396  -5.1545\n",
       "705    Topic3   47.931764        press   52.558003   1.8369  -4.6284\n",
       "169    Topic3   17.120649       center   18.785102   1.8363  -5.6579\n",
       "866    Topic3   23.655310         stir   26.303985   1.8229  -5.3346\n",
       "505    Topic3   13.387010           la   15.044272   1.8123  -5.9039\n",
       "145    Topic3   13.390011      boiling   15.047838   1.8123  -5.9037\n",
       "697    Topic3   29.253129        pound   32.887940   1.8119  -5.1222\n",
       "857    Topic3   20.850736       square   23.497073   1.8096  -5.4608\n",
       "167    Topic3   12.452950       caviar   14.110047   1.8041  -5.9763\n",
       "968    Topic3   32.050243        water   36.666711   1.7945  -5.0309\n",
       "927    Topic3   18.054915       tongue   20.697700   1.7924  -5.6048\n",
       "975    Topic3   44.195196        white   50.770946   1.7903  -4.7096\n",
       "905    Topic3   17.121836          tea   19.759004   1.7858  -5.6579\n",
       "839    Topic3   16.189587       smooth   18.825648   1.7782  -5.7139\n",
       "528    Topic3   20.856498        level   24.477564   1.7690  -5.4606\n",
       "431    Topic3  101.142560         half  136.101985   1.6322  -3.8817\n",
       "193    Topic3   45.127568         cold   57.568233   1.6856  -4.6887\n",
       "814    Topic3   27.394638        serve   36.883117   1.6316  -5.1879\n",
       "146    Topic3   38.598573         book   57.862097   1.5242  -4.8450\n",
       "168    Topic3   27.391327         cent   37.850655   1.6056  -5.1880\n",
       "366    Topic3   33.928425         fine   56.131486   1.4256  -4.9740\n",
       "718    Topic3   81.553054      project  265.011013   0.7505  -4.0970\n",
       "428    Topic3   52.612288  gutenbergtm  162.748321   0.7998  -4.5353\n",
       "558    Topic3   53.551798         make  204.691397   0.5882  -4.5176\n",
       "986    Topic3   78.852568         work  600.436890  -0.1010  -4.1306\n",
       "947    Topic3   30.194211          use   81.708757   0.9335  -5.0906\n",
       "427    Topic3   28.339772    gutenberg   88.621769   0.7889  -5.1540\n",
       "597    Topic3   33.082645           mr  371.515564  -0.4895  -4.9992\n",
       "543    Topic3   27.433129       little  119.922629   0.4539  -5.1865\n",
       "\n",
       "[201 rows x 6 columns], token_table=      Topic      Freq      Term\n",
       "term                           \n",
       "59        1  0.922334   ability\n",
       "59        3  0.051241   ability\n",
       "72        1  0.018113       add\n",
       "72        3  0.978098       add\n",
       "82        1  0.060230    afraid\n",
       "82        2  0.933569    afraid\n",
       "94        1  0.013655  answered\n",
       "94        2  0.983129  answered\n",
       "97        1  0.937404  apparent\n",
       "97        2  0.042609  apparent\n",
       "109       1  0.968829       art\n",
       "109       2  0.010886       art\n",
       "109       3  0.010886       art\n",
       "112       1  0.073148     asked\n",
       "112       2  0.924328     asked\n",
       "139       1  0.613818      best\n",
       "139       2  0.247507      best\n",
       "139       3  0.138604      best\n",
       "144       1  0.038078    boiled\n",
       "144       3  0.951957    boiled\n",
       "145       1  0.066455   boiling\n",
       "145       3  0.863911   boiling\n",
       "146       1  0.103695      book\n",
       "146       2  0.224672      book\n",
       "146       3  0.674016      book\n",
       "149       1  0.119885       boy\n",
       "149       2  0.879159       boy\n",
       "150       2  0.005117     bread\n",
       "150       3  0.992735     bread\n",
       "152       1  0.917886   brother\n",
       "...     ...       ...       ...\n",
       "964       2  0.812462      want\n",
       "964       3  0.024999      want\n",
       "968       1  0.027273     water\n",
       "968       2  0.081818     water\n",
       "968       3  0.872726     water\n",
       "969       1  0.466480       way\n",
       "969       2  0.407245       way\n",
       "969       3  0.125876       way\n",
       "975       1  0.039393     white\n",
       "975       2  0.078785     white\n",
       "975       3  0.866637     white\n",
       "982       1  0.017068        wo\n",
       "982       2  0.972852        wo\n",
       "986       1  0.666182      work\n",
       "986       2  0.203185      work\n",
       "986       3  0.131571      work\n",
       "988       1  0.882724     world\n",
       "988       2  0.112092     world\n",
       "994       1  0.962491     wrote\n",
       "994       2  0.030078     wrote\n",
       "995       1  0.811937      year\n",
       "995       2  0.163203      year\n",
       "995       3  0.024480      year\n",
       "996       1  0.006565       yes\n",
       "996       2  0.991341       yes\n",
       "997       1  0.100953      york\n",
       "997       2  0.894154      york\n",
       "998       1  0.313027     young\n",
       "998       2  0.679109     young\n",
       "998       3  0.005306     young\n",
       "\n",
       "[364 rows x 3 columns], R=30, lambda_step=0.01, plot_opts={'xlab': 'PC1', 'ylab': 'PC2'}, topic_order=[1, 2, 3])"
      ]
     },
     "execution_count": 11,
     "metadata": {},
     "output_type": "execute_result"
    }
   ],
   "source": [
    "import pyLDAvis\n",
    "import pyLDAvis.sklearn\n",
    "pyLDAvis.enable_notebook()\n",
    "pyLDAvis.sklearn.prepare(lda, tf, tf_vectorizer)"
   ]
  },
  {
   "cell_type": "markdown",
   "metadata": {
    "collapsed": true
   },
   "source": [
    "#### Introducing pyLDAvis\n",
    "\n",
    "[pyLDAvis](http://pyldavis.readthedocs.io/en/latest/modules/API.html) is designed to help users interpret the topics in a topic model that has been fit to a corpus of text data. The\n",
    "package extracts information from a fitted LDA topic model to inform an interactive web-based visualization\n",
    "\n",
    "It answers three questions:\n",
    "What is the meaning of each topic?\n",
    "How prevalent is each topic?\n",
    "How do the topics relate to each other?\n",
    "\n",
    "- the size of the circle represents the documents in each topic\n",
    "- the bars in the left part show the most frequent keywords in each topic\n",
    "- the distance among the circles shows the similarity of different topics\n",
    "- set λ = 1, the words with high frequency are more relevant to the topic,\n",
    "- set λ = 0, words more exclusive are more relavent to the topic.\n"
   ]
  },
  {
   "cell_type": "code",
   "execution_count": null,
   "metadata": {
    "collapsed": true
   },
   "outputs": [],
   "source": []
  }
 ],
 "metadata": {
  "kernelspec": {
   "display_name": "Python 2",
   "language": "python",
   "name": "python2"
  },
  "language_info": {
   "codemirror_mode": {
    "name": "ipython",
    "version": 2
   },
   "file_extension": ".py",
   "mimetype": "text/x-python",
   "name": "python",
   "nbconvert_exporter": "python",
   "pygments_lexer": "ipython2",
   "version": "2.7.13"
  }
 },
 "nbformat": 4,
 "nbformat_minor": 2
}
