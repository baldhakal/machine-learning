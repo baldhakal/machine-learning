{
 "cells": [
  {
   "cell_type": "code",
   "execution_count": 1,
   "metadata": {},
   "outputs": [
    {
     "data": {
      "text/plain": [
       "[u'austen-emma.txt',\n",
       " u'austen-persuasion.txt',\n",
       " u'austen-sense.txt',\n",
       " u'bible-kjv.txt',\n",
       " u'blake-poems.txt',\n",
       " u'bryant-stories.txt',\n",
       " u'burgess-busterbrown.txt',\n",
       " u'carroll-alice.txt',\n",
       " u'chesterton-ball.txt',\n",
       " u'chesterton-brown.txt',\n",
       " u'chesterton-thursday.txt',\n",
       " u'edgeworth-parents.txt',\n",
       " u'melville-moby_dick.txt',\n",
       " u'milton-paradise.txt',\n",
       " u'shakespeare-caesar.txt',\n",
       " u'shakespeare-hamlet.txt',\n",
       " u'shakespeare-macbeth.txt',\n",
       " u'whitman-leaves.txt']"
      ]
     },
     "execution_count": 1,
     "metadata": {},
     "output_type": "execute_result"
    }
   ],
   "source": [
    "import nltk\n",
    "nltk.corpus.gutenberg.fileids()"
   ]
  },
  {
   "cell_type": "markdown",
   "metadata": {},
   "source": [
    "#### .isalpha()\n",
    "This method returns true if all characters in the string are alphabetic and there is at least one character, false otherwise."
   ]
  },
  {
   "cell_type": "code",
   "execution_count": 2,
   "metadata": {},
   "outputs": [
    {
     "name": "stdout",
     "output_type": "stream",
     "text": [
      "[u'Leaves', u'of', u'Grass', u'by', u'Walt', u'Whitman', u'Come', u'said', u'my', u'soul']\n"
     ]
    }
   ],
   "source": [
    "# note the use of words() to load tokens\n",
    "whitmanTokens = list(nltk.corpus.gutenberg.words('whitman-leaves.txt'))\n",
    "# filter out non-words\n",
    "whitmanWords = [word for word in whitmanTokens if word[0].isalpha()]\n",
    "print whitmanWords[:10]"
   ]
  },
  {
   "cell_type": "markdown",
   "metadata": {},
   "source": [
    "#### .collocations()\n",
    "There's actually a very easy and convenient way to look for the top bigrams in an NLTK text using the collocations() function </a> and specifying the number of top frequency phrases to return."
   ]
  },
  {
   "cell_type": "code",
   "execution_count": 3,
   "metadata": {},
   "outputs": [
    {
     "name": "stdout",
     "output_type": "stream",
     "text": [
      "young men; open air; Walt Whitman; young man; New World; every one;\n",
      "every thing; live oak; Good bye; whole earth; Thou knowest; thousand\n",
      "years; Old Age; mocking bird; shapes arise; old man; little child;\n",
      "steam whistle; centuries hence; old age\n"
     ]
    }
   ],
   "source": [
    "whitmanText = nltk.Text (whitmanWords)\n",
    "# 20 top bigrams separated by semi-colon\n",
    "whitmanText.collocations(20)"
   ]
  },
  {
   "cell_type": "markdown",
   "metadata": {},
   "source": [
    "### NLTK N-Grams"
   ]
  },
  {
   "cell_type": "code",
   "execution_count": 17,
   "metadata": {},
   "outputs": [
    {
     "name": "stdout",
     "output_type": "stream",
     "text": [
      "(u'Leaves', u'of', u'Grass', u'by')\n",
      "(14, u'it shall be you')\n",
      "(11, u'of the earth and')\n",
      "(11, u'I do not know')\n",
      "(11, u'as much as the')\n",
      "(10, u'The shape of the')\n",
      "(10, u'in the open air')\n",
      "(10, u'of men and women')\n",
      "(10, u'I do not doubt')\n",
      "(10, u'just as much as')\n",
      "(8, u'in the midst of')\n",
      "(8, u'of the earth I')\n",
      "(8, u'you whoever you are')\n",
      "(7, u'do not know what')\n",
      "(7, u'the sound of the')\n",
      "(7, u'know what it is')\n"
     ]
    }
   ],
   "source": [
    "# create four-grams\n",
    "whitman4grams = list(nltk.ngrams(whitmanWords,4))\n",
    "print whitman4grams[0] # a list of 4 grams words\n",
    "# determine frequency of four-grams\n",
    "whitman4gramsFreq = nltk.FreqDist(whitman4grams)\n",
    "for words, count in whitman4gramsFreq.most_common(15):\n",
    "    print (count, ' '.join(list(words)))"
   ]
  },
  {
   "cell_type": "markdown",
   "metadata": {},
   "source": [
    "### Distribution of Phrase"
   ]
  },
  {
   "cell_type": "code",
   "execution_count": 5,
   "metadata": {},
   "outputs": [
    {
     "data": {
      "image/png": "[encoded data removed]",
      "text/plain": [
       "<matplotlib.figure.Figure at 0x1163c8b50>"
      ]
     },
     "metadata": {},
     "output_type": "display_data"
    }
   ],
   "source": [
    "whitmanText.dispersion_plot([\"it shall be you\"])\n",
    "# won't work since phrases aren't in the emmaText tokens"
   ]
  },
  {
   "cell_type": "markdown",
   "metadata": {},
   "source": [
    "However, we can create a new text from our ngrams and then ask for a dispersion plot. "
   ]
  },
  {
   "cell_type": "code",
   "execution_count": 7,
   "metadata": {},
   "outputs": [
    {
     "data": {
      "image/png": "[encoded data removed]",
      "text/plain": [
       "<matplotlib.figure.Figure at 0x1169ff610>"
      ]
     },
     "metadata": {},
     "output_type": "display_data"
    }
   ],
   "source": [
    "whitman4gramsText = nltk.Text(whitman4grams)\n",
    "whitman4gramsText.dispersion_plot([(\"it\",\"shall\",\"be\",\"you\")])"
   ]
  },
  {
   "cell_type": "markdown",
   "metadata": {},
   "source": [
    "### Longest Repeating Phrases"
   ]
  },
  {
   "cell_type": "code",
   "execution_count": 10,
   "metadata": {},
   "outputs": [
    {
     "name": "stdout",
     "output_type": "stream",
     "text": [
      "('ngram of', 33, ' words occuring ', 2, ' times:', u'from top to toe I sing Not physiognomy alone nor brain alone is worthy for the Muse I say the Form complete is worthier far The Female equally with the Male I sing')\n"
     ]
    }
   ],
   "source": [
    "ngramsFreqs = [] # keep track of last set of repeating phrases\n",
    "# create a range from 2 to the length of the text (even if we don't get that high)\n",
    "for length in range (2,len(whitmanWords)):\n",
    "    ngrams = list(nltk.ngrams(whitmanWords, length))\n",
    "    freqs = nltk.FreqDist(ngrams)\n",
    "    \n",
    "    # filter out frequencies that don't repeat\n",
    "    freqs = [(ngram, count) for ngram, count in freqs.items() if count > 1]\n",
    "    if len(freqs) > 0: # we have at least one repeating phrase\n",
    "        ngramsFreqs = freqs # new set of frequencies\n",
    "    else: # if we've filtered out all frequencies then break out of the loop\n",
    "        break\n",
    "\n",
    "for ngram, count in ngramsFreqs:\n",
    "    print('ngram of', len(ngram), ' words occuring ', count, ' times:', ' '.join(list(ngram)))"
   ]
  },
  {
   "cell_type": "markdown",
   "metadata": {},
   "source": [
    "### Segmenting Texts\n",
    "We can segment our tokens or n-grams </a> in various ways, but one convenient way is to use a library called NumPy that is helpful for working with arrays </a> (and graphing array-backed data). Let's see it in action with a simplified example where we're going to create a list of numbers from 0 to 9 (10 elements) and then create 5 equal bins in which to place the items."
   ]
  },
  {
   "cell_type": "code",
   "execution_count": 11,
   "metadata": {},
   "outputs": [
    {
     "data": {
      "text/plain": [
       "[0, 1, 2, 3, 4, 5, 6, 7, 8]"
      ]
     },
     "execution_count": 11,
     "metadata": {},
     "output_type": "execute_result"
    }
   ],
   "source": [
    "numbers = list(range(0,9)) # create a range from 0 to 9 and convert the range to a list\n",
    "numbers"
   ]
  },
  {
   "cell_type": "code",
   "execution_count": 12,
   "metadata": {},
   "outputs": [
    {
     "name": "stdout",
     "output_type": "stream",
     "text": [
      "('number of bins:', 5)\n"
     ]
    },
    {
     "data": {
      "text/plain": [
       "[array([0, 1]), array([2, 3]), array([4, 5]), array([6, 7]), array([8])]"
      ]
     },
     "execution_count": 12,
     "metadata": {},
     "output_type": "execute_result"
    }
   ],
   "source": [
    "import numpy as np\n",
    "numberBins = np.array_split(numbers, 5) # divide our numbers into 5 equal bins\n",
    "print(\"number of bins:\", len(numberBins))\n",
    "numberBins"
   ]
  },
  {
   "cell_type": "markdown",
   "metadata": {},
   "source": [
    "We can do something similar with our whitman4gramsTokens, dividing the list into 10 each parts."
   ]
  },
  {
   "cell_type": "code",
   "execution_count": 16,
   "metadata": {},
   "outputs": [
    {
     "name": "stdout",
     "output_type": "stream",
     "text": [
      "Leaves of Grass by\n"
     ]
    },
    {
     "data": {
      "text/plain": [
       "[12628, 12628, 12628, 12627, 12627, 12627, 12627, 12627, 12627, 12627]"
      ]
     },
     "execution_count": 16,
     "metadata": {},
     "output_type": "execute_result"
    }
   ],
   "source": [
    "\n",
    "whitman4gramsTokens = [\" \".join(gram) for gram in whitman4grams]\n",
    "print whitman4gramsTokens[0]\n",
    "whitman4gramsSegments = np.array_split(whitman4gramsTokens, 10)\n",
    "[len(segment) for segment in whitman4gramsSegments] # how many ngrams in each bin?"
   ]
  },
  {
   "cell_type": "code",
   "execution_count": null,
   "metadata": {
    "collapsed": true
   },
   "outputs": [],
   "source": []
  }
 ],
 "metadata": {
  "kernelspec": {
   "display_name": "Python 2",
   "language": "python",
   "name": "python2"
  },
  "language_info": {
   "codemirror_mode": {
    "name": "ipython",
    "version": 2
   },
   "file_extension": ".py",
   "mimetype": "text/x-python",
   "name": "python",
   "nbconvert_exporter": "python",
   "pygments_lexer": "ipython2",
   "version": "2.7.13"
  }
 },
 "nbformat": 4,
 "nbformat_minor": 2
}
