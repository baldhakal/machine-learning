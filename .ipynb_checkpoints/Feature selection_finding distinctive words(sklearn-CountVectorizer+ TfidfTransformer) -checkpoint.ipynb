{
 "cells": [
  {
   "cell_type": "markdown",
   "metadata": {},
   "source": [
    "\n",
    "Getting text (harry potter series 1-3)\n"
   ]
  },
  {
   "cell_type": "code",
   "execution_count": 4,
   "metadata": {},
   "outputs": [
    {
     "name": "stdout",
     "output_type": "stream",
     "text": [
      "3\n"
     ]
    }
   ],
   "source": [
    "# define a function to get .txt files in a folder\n",
    "from os import listdir\n",
    "def list_textfiles(directory):\n",
    "    \"Return a list of filenames ending in '.txt' in DIRECTORY.\"\n",
    "    textfiles = []\n",
    "    for filename in listdir(directory):\n",
    "        if filename.endswith(\".txt\"):\n",
    "            textfiles.append(directory + \"/\" + filename)\n",
    "    return textfiles   \n",
    "\n",
    "# define a function to read the text in a .txt file\n",
    "\n",
    "def read_txt(filename):\n",
    "    try:\n",
    "        f = open(filename,'r')\n",
    "        text = f.read()\n",
    "    finally:\n",
    "        if f:\n",
    "            f.close()\n",
    "    return text\n",
    "\n",
    "#import harry potter textfiles\n",
    "filenames = list_textfiles('HP')\n",
    "raw_texts = []\n",
    "for f in filenames:\n",
    "    raw_texts.append(read_txt(f))\n",
    "print len(raw_texts)"
   ]
  },
  {
   "cell_type": "code",
   "execution_count": 2,
   "metadata": {},
   "outputs": [
    {
     "name": "stdout",
     "output_type": "stream",
     "text": [
      "[[0 0 0 0 0 0 0 0 0 0]\n",
      " [0 0 0 0 0 0 0 0 0 0]\n",
      " [0 0 0 0 0 0 0 0 0 0]]\n",
      "[u'beamed' u'beaming' u'bean' u'beans' u'bear' u'bearable' u'beard'\n",
      " u'bearded' u'bearing' u'bearlike']\n"
     ]
    }
   ],
   "source": [
    "import numpy as np\n",
    "from sklearn.feature_extraction.text import CountVectorizer\n",
    "\n",
    "vectorizer = CountVectorizer(input='content')\n",
    "# generate document term matrix\n",
    "dtm = vectorizer.fit_transform(raw_texts)\n",
    "\n",
    "# get the words as feature names\n",
    "\n",
    "vocab = np.array(vectorizer.get_feature_names())\n",
    "\n",
    "# fit_transform returns a sparse matrix (which uses less memory)\n",
    "# but we want to work with a normal numpy array.\n",
    "dtm = dtm.toarray()\n",
    "\n",
    "# normalize counts to rates per 1000 words\n",
    "rates = 1000 * dtm / np.sum(dtm, axis=1, keepdims=True)\n",
    "\n",
    "print rates[:, 1000:1010]\n",
    "print vocab[1000:1010]"
   ]
  },
  {
   "cell_type": "markdown",
   "metadata": {},
   "source": [
    "### Measuring distinctiveness\n",
    "\n",
    "Here, in my texts, we will identify the unique words used in each harry potter book.\n",
    "\n",
    "sklearn"
   ]
  },
  {
   "cell_type": "code",
   "execution_count": 3,
   "metadata": {},
   "outputs": [
    {
     "name": "stdout",
     "output_type": "stream",
     "text": [
      "11186\n"
     ]
    }
   ],
   "source": [
    "from sklearn.feature_extraction.text import TfidfVectorizer\n",
    "\n",
    "vectorizer = TfidfVectorizer(input='content', min_df = 1, stop_words = 'english')\n",
    "\n",
    "# Let’s execute the model against our corpus:\n",
    "tfidf_matrix =  vectorizer.fit_transform(raw_texts)\n",
    "feature_names = vectorizer.get_feature_names()\n",
    "\n",
    "tfidfArray = tfidf_matrix.toarray()\n",
    "\n",
    "print len(feature_names)\n",
    "\n",
    "#print tfidfArray"
   ]
  },
  {
   "cell_type": "markdown",
   "metadata": {},
   "source": [
    "So we are got more than 10 thousands words.\n",
    "View the top 5 terms of each news article based on the tfidf score"
   ]
  },
  {
   "cell_type": "code",
   "execution_count": 6,
   "metadata": {},
   "outputs": [
    {
     "name": "stdout",
     "output_type": "stream",
     "text": [
      "tfidf for article 1 is:\n"
     ]
    },
    {
     "data": {
      "image/png": "[encoded data removed]",
      "text/plain": [
       "<matplotlib.figure.Figure at 0x103f7ec90>"
      ]
     },
     "metadata": {},
     "output_type": "display_data"
    },
    {
     "name": "stdout",
     "output_type": "stream",
     "text": [
      "tfidf for article 2 is:\n"
     ]
    },
    {
     "data": {
      "image/png": "[encoded data removed]",
      "text/plain": [
       "<matplotlib.figure.Figure at 0x109c2d2d0>"
      ]
     },
     "metadata": {},
     "output_type": "display_data"
    },
    {
     "name": "stdout",
     "output_type": "stream",
     "text": [
      "tfidf for article 3 is:\n"
     ]
    },
    {
     "data": {
      "image/png": "[encoded data removed]",
      "text/plain": [
       "<matplotlib.figure.Figure at 0x109c2d410>"
      ]
     },
     "metadata": {},
     "output_type": "display_data"
    }
   ],
   "source": [
    "feature_names = vectorizer.get_feature_names()\n",
    "li = [] #li is a list of tfidf (top 10 words) in the book.\n",
    "tfidf = []\n",
    "for l in tfidfArray:\n",
    "\n",
    "    # sort tf-idf /How to explain this : ???\n",
    "    #print [[feature_names[x],l[x]] for x in (l*-1).argsort()][:5]\n",
    "    tfidf.append([(feature_names[x],l[x]) for x in (l*-1).argsort()][:10])\n",
    "\n",
    "\n",
    "# plot the result\n",
    "import numpy as np\n",
    "from matplotlib import pyplot as plt\n",
    "\n",
    "def plotTfidf (li): # parameter li is a list of tfidf (top 5 words) in the book. \n",
    "                    #e.g. [(u'pens', 0.43280168447929529), (u'the', 0.29211105475772814), (u'bit', 0.21640084223964764), (u'of', 0.2133540325973512), (u'am', 0.18396048627999845)]\n",
    "    \n",
    "    # set figure size\n",
    "    fig = plt.figure(figsize=[10, 5])\n",
    "    # plot tfidf of a given doc\n",
    "    labels,Y = zip(*li) # See notes below\n",
    "    X = np.arange(len(labels))\n",
    "    plt.bar(X,Y,width = 0.4,facecolor = 'lightskyblue',edgecolor = 'white')  \n",
    "    plt.xticks(X, labels)# stick labels on x axis\n",
    "    for x,y in zip(X,Y):\n",
    "        plt.text(x,y+0.005,round(y,2), ha='center', va= 'bottom',fontsize=7) #round(y,2): two decimals\n",
    "    plt.show()    \n",
    "\n",
    "i = 0\n",
    "for doc in tfidf:\n",
    "    print \"tfidf for article \" + str(i+1) +\" is:\"\n",
    "    plotTfidf(doc)\n",
    "    i +=1   \n",
    "    "
   ]
  },
  {
   "cell_type": "code",
   "execution_count": null,
   "metadata": {
    "collapsed": true
   },
   "outputs": [],
   "source": []
  },
  {
   "cell_type": "code",
   "execution_count": null,
   "metadata": {
    "collapsed": true
   },
   "outputs": [],
   "source": []
  }
 ],
 "metadata": {
  "kernelspec": {
   "display_name": "Python 2",
   "language": "python",
   "name": "python2"
  },
  "language_info": {
   "codemirror_mode": {
    "name": "ipython",
    "version": 2
   },
   "file_extension": ".py",
   "mimetype": "text/x-python",
   "name": "python",
   "nbconvert_exporter": "python",
   "pygments_lexer": "ipython2",
   "version": "2.7.13"
  }
 },
 "nbformat": 4,
 "nbformat_minor": 2
}
