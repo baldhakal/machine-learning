{
 "cells": [
  {
   "cell_type": "markdown",
   "metadata": {},
   "source": [
    "\n",
    "### Getting text\n",
    "In this sample, texts are three ebooks with different topics from Guternburg:\n",
    "1. Adrift in New York (children fiction)\n",
    "2. Beethoven (music)\n",
    "3. Sandwiches (cook)"
   ]
  },
  {
   "cell_type": "code",
   "execution_count": 1,
   "metadata": {},
   "outputs": [
    {
     "name": "stdout",
     "output_type": "stream",
     "text": [
      "3\n"
     ]
    }
   ],
   "source": [
    "# define a function to get .txt files in a folder\n",
    "from os import listdir\n",
    "def list_textfiles(directory):\n",
    "    \"Return a list of filenames ending in '.txt' in DIRECTORY.\"\n",
    "    textfiles = []\n",
    "    for filename in listdir(directory):\n",
    "        if filename.endswith(\".txt\"):\n",
    "            textfiles.append(directory + \"/\" + filename)\n",
    "    return textfiles   \n",
    "\n",
    "# define a function to read the text in a .txt file\n",
    "\n",
    "def read_txt(filename):\n",
    "    try:\n",
    "        f = open(filename,'r')\n",
    "        text = f.read()\n",
    "    finally:\n",
    "        if f:\n",
    "            f.close()\n",
    "    return text\n",
    "\n",
    "#import harry potter textfiles\n",
    "filenames = list_textfiles('Plaintexts')\n",
    "raw_texts = []\n",
    "for f in filenames:\n",
    "    raw_texts.append(read_txt(f))\n",
    "print len(raw_texts)"
   ]
  },
  {
   "cell_type": "code",
   "execution_count": 2,
   "metadata": {
    "collapsed": true
   },
   "outputs": [],
   "source": [
    "# vectorize corpus\n",
    "from sklearn.feature_extraction.text import CountVectorizer\n",
    "vectorizer = CountVectorizer(input='content', min_df = 1,max_df = 0.8, stop_words = 'english')\n",
    "X = vectorizer.fit_transform(raw_texts)\n",
    "# show the matrix of the vectorized corpus\n",
    "X.toarray()\n",
    "# show the unique terms (feature names)\n",
    "feature_names = vectorizer.get_feature_names()\n",
    "\n",
    "# count tf-idf of each term in the vectorized corpus\n",
    "from sklearn.feature_extraction.text import TfidfTransformer\n",
    "transformer = TfidfTransformer()\n",
    "tfidf = transformer.fit_transform(X)\n",
    "tfidfArray = tfidf.toarray()"
   ]
  },
  {
   "cell_type": "markdown",
   "metadata": {},
   "source": [
    "Here we set max_df as 0.7 to remove common words in the results as shown in this example:\n",
    "http://localhost:8888/notebooks/Desktop/temp/UofA%20/Learn%20python/machine%20learning/Feature%20selection_finding%20distinctive%20words(sklearn-TfidfVectorizer)%20-%20DARIAH.ipynb\n",
    "\n",
    "max_df : float in range [0.0, 1.0] or int, default=1.0："
   ]
  },
  {
   "cell_type": "code",
   "execution_count": 3,
   "metadata": {},
   "outputs": [
    {
     "name": "stdout",
     "output_type": "stream",
     "text": [
      "tfidf for article 1 is:\n"
     ]
    },
    {
     "data": {
      "image/png": "[encoded data removed]",
      "text/plain": [
       "<matplotlib.figure.Figure at 0x112052e10>"
      ]
     },
     "metadata": {},
     "output_type": "display_data"
    },
    {
     "name": "stdout",
     "output_type": "stream",
     "text": [
      "tfidf for article 2 is:\n"
     ]
    },
    {
     "data": {
      "image/png": "[encoded data removed]",
      "text/plain": [
       "<matplotlib.figure.Figure at 0x1134ef710>"
      ]
     },
     "metadata": {},
     "output_type": "display_data"
    },
    {
     "name": "stdout",
     "output_type": "stream",
     "text": [
      "tfidf for article 3 is:\n"
     ]
    },
    {
     "data": {
      "image/png": "[encoded data removed]",
      "text/plain": [
       "<matplotlib.figure.Figure at 0x11361da90>"
      ]
     },
     "metadata": {},
     "output_type": "display_data"
    }
   ],
   "source": [
    "# view the top 5 terms of each news article based on the tfidf score\n",
    "\n",
    "feature_names = vectorizer.get_feature_names()\n",
    "li = []\n",
    "tfidf = []\n",
    "for l in tfidfArray:\n",
    "\n",
    "    # sort tf-idf /How to explain this : ???\n",
    "    #print [[feature_names[x],l[x]] for x in (l*-1).argsort()][:5]\n",
    "    tfidf.append([(feature_names[x],l[x]) for x in (l*-1).argsort()][:10])\n",
    "\n",
    "# plot the result\n",
    "import numpy as np\n",
    "from matplotlib import pyplot as plt\n",
    "\n",
    "def plotTfidf (li): # parameter li is a list of tfidf (top 5 words) in the news article. \n",
    "                    #e.g. [(u'pens', 0.43280168447929529), (u'the', 0.29211105475772814), (u'bit', 0.21640084223964764), (u'of', 0.2133540325973512), (u'am', 0.18396048627999845)]\n",
    "    \n",
    "    # set figure size\n",
    "    fig = plt.figure(figsize=[10, 5])\n",
    "    # plot tfidf of a given doc\n",
    "    labels,Y = zip(*li) # See notes below\n",
    "    X = np.arange(len(labels))\n",
    "    plt.bar(X,Y,width = 0.4,facecolor = 'lightskyblue',edgecolor = 'white')  \n",
    "    plt.xticks(X, labels)# stick labels on x axis\n",
    "    for x,y in zip(X,Y):\n",
    "        plt.text(x,y+0.005,round(y,2), ha='center', va= 'bottom',fontsize=7)\n",
    "    plt.show()    \n",
    "\n",
    "i = 0\n",
    "for doc in tfidf:\n",
    "    print \"tfidf for article \" + str(i+1) +\" is:\"\n",
    "    plotTfidf(doc)\n",
    "    i +=1   \n",
    "    \n",
    "# reference: https://stackoverflow.com/questions/28619595/how-to-get-top-terms-based-on-tf-idf-python"
   ]
  },
  {
   "cell_type": "code",
   "execution_count": null,
   "metadata": {
    "collapsed": true
   },
   "outputs": [],
   "source": []
  }
 ],
 "metadata": {
  "kernelspec": {
   "display_name": "Python 2",
   "language": "python",
   "name": "python2"
  },
  "language_info": {
   "codemirror_mode": {
    "name": "ipython",
    "version": 2
   },
   "file_extension": ".py",
   "mimetype": "text/x-python",
   "name": "python",
   "nbconvert_exporter": "python",
   "pygments_lexer": "ipython2",
   "version": "2.7.13"
  }
 },
 "nbformat": 4,
 "nbformat_minor": 2
}
